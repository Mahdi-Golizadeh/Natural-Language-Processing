{
  "nbformat": 4,
  "nbformat_minor": 0,
  "metadata": {
    "colab": {
      "provenance": [],
      "authorship_tag": "ABX9TyNYCli+NdFsiN9KY0WWx/Cm",
      "include_colab_link": true
    },
    "kernelspec": {
      "name": "python3",
      "display_name": "Python 3"
    },
    "language_info": {
      "name": "python"
    }
  },
  "cells": [
    {
      "cell_type": "markdown",
      "metadata": {
        "id": "view-in-github",
        "colab_type": "text"
      },
      "source": [
        "<a href=\"https://colab.research.google.com/github/Mahdi-Golizadeh/Natural-Language-Processing/blob/main/transformers/simplechat/chatbot.ipynb\" target=\"_parent\"><img src=\"https://colab.research.google.com/assets/colab-badge.svg\" alt=\"Open In Colab\"/></a>"
      ]
    },
    {
      "cell_type": "code",
      "execution_count": 14,
      "metadata": {
        "id": "ctsPQVWeQcVz"
      },
      "outputs": [],
      "source": [
        "!pip install -q transformers"
      ]
    },
    {
      "cell_type": "code",
      "source": [
        "# Here is some code that suppresses warning messages.\n",
        "from transformers.utils import logging\n",
        "logging.set_verbosity_error()"
      ],
      "metadata": {
        "id": "JYA-nrRqQj7Y"
      },
      "execution_count": 15,
      "outputs": []
    },
    {
      "cell_type": "code",
      "source": [
        "from transformers import pipeline"
      ],
      "metadata": {
        "id": "60RlBry6Qy8o"
      },
      "execution_count": 16,
      "outputs": []
    },
    {
      "cell_type": "code",
      "source": [
        "# Define the conversation pipeline"
      ],
      "metadata": {
        "id": "KzsbkI_0Q38w"
      },
      "execution_count": 17,
      "outputs": []
    },
    {
      "cell_type": "code",
      "source": [
        "chatbot = pipeline(task=\"conversational\",\n",
        "                   model=\"facebook/blenderbot-400M-distill\")"
      ],
      "metadata": {
        "id": "3FcZLpDaQ9N5"
      },
      "execution_count": 18,
      "outputs": []
    },
    {
      "cell_type": "code",
      "source": [
        "user_message = \"\"\"\n",
        "What are the best books to read in the winter?\n",
        "\"\"\""
      ],
      "metadata": {
        "id": "AWOiL5nWRBCB"
      },
      "execution_count": 19,
      "outputs": []
    },
    {
      "cell_type": "code",
      "source": [
        "from transformers import Conversation"
      ],
      "metadata": {
        "id": "4IKobgBiSKpI"
      },
      "execution_count": 20,
      "outputs": []
    },
    {
      "cell_type": "code",
      "source": [
        "conversation = Conversation(user_message)\n",
        "print(conversation)"
      ],
      "metadata": {
        "colab": {
          "base_uri": "https://localhost:8080/"
        },
        "id": "Fizy59tJSOKQ",
        "outputId": "e8b428fd-67a2-464f-af88-2e2234c13091"
      },
      "execution_count": 21,
      "outputs": [
        {
          "output_type": "stream",
          "name": "stdout",
          "text": [
            "Conversation id: 5190067a-e554-48bc-95aa-d4e862e525f1\n",
            "user: \n",
            "What are the best books to read in the winter?\n",
            "\n",
            "\n"
          ]
        }
      ]
    },
    {
      "cell_type": "code",
      "source": [
        "conversation = chatbot(conversation)\n",
        "print(conversation)"
      ],
      "metadata": {
        "colab": {
          "base_uri": "https://localhost:8080/"
        },
        "id": "gm-2nNwNSUqx",
        "outputId": "eabb99e5-9225-4493-db59-c35284860bec"
      },
      "execution_count": 22,
      "outputs": [
        {
          "output_type": "stream",
          "name": "stdout",
          "text": [
            "Conversation id: 5190067a-e554-48bc-95aa-d4e862e525f1\n",
            "user: \n",
            "What are the best books to read in the winter?\n",
            "\n",
            "assistant:  I don't read a lot of books, but I do like to read non-fiction.\n",
            "\n"
          ]
        }
      ]
    },
    {
      "cell_type": "code",
      "source": [
        "conversation.add_message(\n",
        "    {\"role\": \"user\",\n",
        "     \"content\": \"\"\"\n",
        "                What else do you recommend?\n",
        "                \"\"\"\n",
        "                    })"
      ],
      "metadata": {
        "id": "TxZFsxlBTxWJ"
      },
      "execution_count": 24,
      "outputs": []
    },
    {
      "cell_type": "code",
      "source": [
        "conversation = chatbot(conversation)\n",
        "print(conversation)"
      ],
      "metadata": {
        "colab": {
          "base_uri": "https://localhost:8080/"
        },
        "id": "5E-VXQjM-QT0",
        "outputId": "efc853b3-4df9-45ff-d8ea-a1d18edb6f9b"
      },
      "execution_count": 25,
      "outputs": [
        {
          "output_type": "stream",
          "name": "stdout",
          "text": [
            "Conversation id: 5190067a-e554-48bc-95aa-d4e862e525f1\n",
            "user: \n",
            "What are the best books to read in the winter?\n",
            "\n",
            "assistant:  I don't read a lot of books, but I do like to read non-fiction.\n",
            "user: \n",
            "                What else do you recommend?\n",
            "                \n",
            "user: \n",
            "                What else do you recommend?\n",
            "                \n",
            "assistant:  What do you like to do in your spare time? I like to play video games.\n",
            "\n"
          ]
        }
      ]
    },
    {
      "cell_type": "code",
      "source": [],
      "metadata": {
        "id": "29UwYIBb-6CK"
      },
      "execution_count": null,
      "outputs": []
    }
  ]
}