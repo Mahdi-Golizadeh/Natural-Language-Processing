{
  "nbformat": 4,
  "nbformat_minor": 0,
  "metadata": {
    "colab": {
      "provenance": [],
      "authorship_tag": "ABX9TyOC8ay19vccLAVsXLrUsSGj",
      "include_colab_link": true
    },
    "kernelspec": {
      "name": "python3",
      "display_name": "Python 3"
    },
    "language_info": {
      "name": "python"
    },
    "accelerator": "GPU",
    "gpuClass": "standard",
    "widgets": {
      "application/vnd.jupyter.widget-state+json": {
        "9aa53246a69447ac94b66ab5347aeff7": {
          "model_module": "@jupyter-widgets/controls",
          "model_name": "HBoxModel",
          "model_module_version": "1.5.0",
          "state": {
            "_dom_classes": [],
            "_model_module": "@jupyter-widgets/controls",
            "_model_module_version": "1.5.0",
            "_model_name": "HBoxModel",
            "_view_count": null,
            "_view_module": "@jupyter-widgets/controls",
            "_view_module_version": "1.5.0",
            "_view_name": "HBoxView",
            "box_style": "",
            "children": [
              "IPY_MODEL_c17c6e032a84417e86daf2c5ffac3dcf",
              "IPY_MODEL_a97b014a367c49c19eeee62b44bd82b9",
              "IPY_MODEL_252a3e19616e40bcb1bf7028befeeead"
            ],
            "layout": "IPY_MODEL_96905a75e26044f5b929b965d6e8a04c"
          }
        },
        "c17c6e032a84417e86daf2c5ffac3dcf": {
          "model_module": "@jupyter-widgets/controls",
          "model_name": "HTMLModel",
          "model_module_version": "1.5.0",
          "state": {
            "_dom_classes": [],
            "_model_module": "@jupyter-widgets/controls",
            "_model_module_version": "1.5.0",
            "_model_name": "HTMLModel",
            "_view_count": null,
            "_view_module": "@jupyter-widgets/controls",
            "_view_module_version": "1.5.0",
            "_view_name": "HTMLView",
            "description": "",
            "description_tooltip": null,
            "layout": "IPY_MODEL_00e555cb88c746d58278a4bd82cdcccf",
            "placeholder": "​",
            "style": "IPY_MODEL_83395eed8c3440318b548d5f5923a123",
            "value": "100%"
          }
        },
        "a97b014a367c49c19eeee62b44bd82b9": {
          "model_module": "@jupyter-widgets/controls",
          "model_name": "FloatProgressModel",
          "model_module_version": "1.5.0",
          "state": {
            "_dom_classes": [],
            "_model_module": "@jupyter-widgets/controls",
            "_model_module_version": "1.5.0",
            "_model_name": "FloatProgressModel",
            "_view_count": null,
            "_view_module": "@jupyter-widgets/controls",
            "_view_module_version": "1.5.0",
            "_view_name": "ProgressView",
            "bar_style": "success",
            "description": "",
            "description_tooltip": null,
            "layout": "IPY_MODEL_f4ba83a94a7848fb85e518e3c7ea0f57",
            "max": 3,
            "min": 0,
            "orientation": "horizontal",
            "style": "IPY_MODEL_fdbe47ad10dd475dadca05c772bd17b2",
            "value": 3
          }
        },
        "252a3e19616e40bcb1bf7028befeeead": {
          "model_module": "@jupyter-widgets/controls",
          "model_name": "HTMLModel",
          "model_module_version": "1.5.0",
          "state": {
            "_dom_classes": [],
            "_model_module": "@jupyter-widgets/controls",
            "_model_module_version": "1.5.0",
            "_model_name": "HTMLModel",
            "_view_count": null,
            "_view_module": "@jupyter-widgets/controls",
            "_view_module_version": "1.5.0",
            "_view_name": "HTMLView",
            "description": "",
            "description_tooltip": null,
            "layout": "IPY_MODEL_d2d42a30c4a549beb4a72dca29788069",
            "placeholder": "​",
            "style": "IPY_MODEL_a2d84c7ad0024aafa834871edfc26e7e",
            "value": " 3/3 [00:00&lt;00:00, 72.21it/s]"
          }
        },
        "96905a75e26044f5b929b965d6e8a04c": {
          "model_module": "@jupyter-widgets/base",
          "model_name": "LayoutModel",
          "model_module_version": "1.2.0",
          "state": {
            "_model_module": "@jupyter-widgets/base",
            "_model_module_version": "1.2.0",
            "_model_name": "LayoutModel",
            "_view_count": null,
            "_view_module": "@jupyter-widgets/base",
            "_view_module_version": "1.2.0",
            "_view_name": "LayoutView",
            "align_content": null,
            "align_items": null,
            "align_self": null,
            "border": null,
            "bottom": null,
            "display": null,
            "flex": null,
            "flex_flow": null,
            "grid_area": null,
            "grid_auto_columns": null,
            "grid_auto_flow": null,
            "grid_auto_rows": null,
            "grid_column": null,
            "grid_gap": null,
            "grid_row": null,
            "grid_template_areas": null,
            "grid_template_columns": null,
            "grid_template_rows": null,
            "height": null,
            "justify_content": null,
            "justify_items": null,
            "left": null,
            "margin": null,
            "max_height": null,
            "max_width": null,
            "min_height": null,
            "min_width": null,
            "object_fit": null,
            "object_position": null,
            "order": null,
            "overflow": null,
            "overflow_x": null,
            "overflow_y": null,
            "padding": null,
            "right": null,
            "top": null,
            "visibility": null,
            "width": null
          }
        },
        "00e555cb88c746d58278a4bd82cdcccf": {
          "model_module": "@jupyter-widgets/base",
          "model_name": "LayoutModel",
          "model_module_version": "1.2.0",
          "state": {
            "_model_module": "@jupyter-widgets/base",
            "_model_module_version": "1.2.0",
            "_model_name": "LayoutModel",
            "_view_count": null,
            "_view_module": "@jupyter-widgets/base",
            "_view_module_version": "1.2.0",
            "_view_name": "LayoutView",
            "align_content": null,
            "align_items": null,
            "align_self": null,
            "border": null,
            "bottom": null,
            "display": null,
            "flex": null,
            "flex_flow": null,
            "grid_area": null,
            "grid_auto_columns": null,
            "grid_auto_flow": null,
            "grid_auto_rows": null,
            "grid_column": null,
            "grid_gap": null,
            "grid_row": null,
            "grid_template_areas": null,
            "grid_template_columns": null,
            "grid_template_rows": null,
            "height": null,
            "justify_content": null,
            "justify_items": null,
            "left": null,
            "margin": null,
            "max_height": null,
            "max_width": null,
            "min_height": null,
            "min_width": null,
            "object_fit": null,
            "object_position": null,
            "order": null,
            "overflow": null,
            "overflow_x": null,
            "overflow_y": null,
            "padding": null,
            "right": null,
            "top": null,
            "visibility": null,
            "width": null
          }
        },
        "83395eed8c3440318b548d5f5923a123": {
          "model_module": "@jupyter-widgets/controls",
          "model_name": "DescriptionStyleModel",
          "model_module_version": "1.5.0",
          "state": {
            "_model_module": "@jupyter-widgets/controls",
            "_model_module_version": "1.5.0",
            "_model_name": "DescriptionStyleModel",
            "_view_count": null,
            "_view_module": "@jupyter-widgets/base",
            "_view_module_version": "1.2.0",
            "_view_name": "StyleView",
            "description_width": ""
          }
        },
        "f4ba83a94a7848fb85e518e3c7ea0f57": {
          "model_module": "@jupyter-widgets/base",
          "model_name": "LayoutModel",
          "model_module_version": "1.2.0",
          "state": {
            "_model_module": "@jupyter-widgets/base",
            "_model_module_version": "1.2.0",
            "_model_name": "LayoutModel",
            "_view_count": null,
            "_view_module": "@jupyter-widgets/base",
            "_view_module_version": "1.2.0",
            "_view_name": "LayoutView",
            "align_content": null,
            "align_items": null,
            "align_self": null,
            "border": null,
            "bottom": null,
            "display": null,
            "flex": null,
            "flex_flow": null,
            "grid_area": null,
            "grid_auto_columns": null,
            "grid_auto_flow": null,
            "grid_auto_rows": null,
            "grid_column": null,
            "grid_gap": null,
            "grid_row": null,
            "grid_template_areas": null,
            "grid_template_columns": null,
            "grid_template_rows": null,
            "height": null,
            "justify_content": null,
            "justify_items": null,
            "left": null,
            "margin": null,
            "max_height": null,
            "max_width": null,
            "min_height": null,
            "min_width": null,
            "object_fit": null,
            "object_position": null,
            "order": null,
            "overflow": null,
            "overflow_x": null,
            "overflow_y": null,
            "padding": null,
            "right": null,
            "top": null,
            "visibility": null,
            "width": null
          }
        },
        "fdbe47ad10dd475dadca05c772bd17b2": {
          "model_module": "@jupyter-widgets/controls",
          "model_name": "ProgressStyleModel",
          "model_module_version": "1.5.0",
          "state": {
            "_model_module": "@jupyter-widgets/controls",
            "_model_module_version": "1.5.0",
            "_model_name": "ProgressStyleModel",
            "_view_count": null,
            "_view_module": "@jupyter-widgets/base",
            "_view_module_version": "1.2.0",
            "_view_name": "StyleView",
            "bar_color": null,
            "description_width": ""
          }
        },
        "d2d42a30c4a549beb4a72dca29788069": {
          "model_module": "@jupyter-widgets/base",
          "model_name": "LayoutModel",
          "model_module_version": "1.2.0",
          "state": {
            "_model_module": "@jupyter-widgets/base",
            "_model_module_version": "1.2.0",
            "_model_name": "LayoutModel",
            "_view_count": null,
            "_view_module": "@jupyter-widgets/base",
            "_view_module_version": "1.2.0",
            "_view_name": "LayoutView",
            "align_content": null,
            "align_items": null,
            "align_self": null,
            "border": null,
            "bottom": null,
            "display": null,
            "flex": null,
            "flex_flow": null,
            "grid_area": null,
            "grid_auto_columns": null,
            "grid_auto_flow": null,
            "grid_auto_rows": null,
            "grid_column": null,
            "grid_gap": null,
            "grid_row": null,
            "grid_template_areas": null,
            "grid_template_columns": null,
            "grid_template_rows": null,
            "height": null,
            "justify_content": null,
            "justify_items": null,
            "left": null,
            "margin": null,
            "max_height": null,
            "max_width": null,
            "min_height": null,
            "min_width": null,
            "object_fit": null,
            "object_position": null,
            "order": null,
            "overflow": null,
            "overflow_x": null,
            "overflow_y": null,
            "padding": null,
            "right": null,
            "top": null,
            "visibility": null,
            "width": null
          }
        },
        "a2d84c7ad0024aafa834871edfc26e7e": {
          "model_module": "@jupyter-widgets/controls",
          "model_name": "DescriptionStyleModel",
          "model_module_version": "1.5.0",
          "state": {
            "_model_module": "@jupyter-widgets/controls",
            "_model_module_version": "1.5.0",
            "_model_name": "DescriptionStyleModel",
            "_view_count": null,
            "_view_module": "@jupyter-widgets/base",
            "_view_module_version": "1.2.0",
            "_view_name": "StyleView",
            "description_width": ""
          }
        },
        "921245dd7b0b4b41898cb9065524eaa6": {
          "model_module": "@jupyter-widgets/controls",
          "model_name": "HBoxModel",
          "model_module_version": "1.5.0",
          "state": {
            "_dom_classes": [],
            "_model_module": "@jupyter-widgets/controls",
            "_model_module_version": "1.5.0",
            "_model_name": "HBoxModel",
            "_view_count": null,
            "_view_module": "@jupyter-widgets/controls",
            "_view_module_version": "1.5.0",
            "_view_name": "HBoxView",
            "box_style": "",
            "children": [
              "IPY_MODEL_20f4e5d212ee4ed985edecd66828845d",
              "IPY_MODEL_ef8d7b8ecc5d4c45ae288778ec61fd1d",
              "IPY_MODEL_e62d4a8676674e6aad2570ff712fb235"
            ],
            "layout": "IPY_MODEL_598a0dc9768b43ee90d7d370182c10b0"
          }
        },
        "20f4e5d212ee4ed985edecd66828845d": {
          "model_module": "@jupyter-widgets/controls",
          "model_name": "HTMLModel",
          "model_module_version": "1.5.0",
          "state": {
            "_dom_classes": [],
            "_model_module": "@jupyter-widgets/controls",
            "_model_module_version": "1.5.0",
            "_model_name": "HTMLModel",
            "_view_count": null,
            "_view_module": "@jupyter-widgets/controls",
            "_view_module_version": "1.5.0",
            "_view_name": "HTMLView",
            "description": "",
            "description_tooltip": null,
            "layout": "IPY_MODEL_f5b7e26f8e6e4889814f85e38f82303f",
            "placeholder": "​",
            "style": "IPY_MODEL_88fbfba8886f460aaeb1985856600bce",
            "value": "100%"
          }
        },
        "ef8d7b8ecc5d4c45ae288778ec61fd1d": {
          "model_module": "@jupyter-widgets/controls",
          "model_name": "FloatProgressModel",
          "model_module_version": "1.5.0",
          "state": {
            "_dom_classes": [],
            "_model_module": "@jupyter-widgets/controls",
            "_model_module_version": "1.5.0",
            "_model_name": "FloatProgressModel",
            "_view_count": null,
            "_view_module": "@jupyter-widgets/controls",
            "_view_module_version": "1.5.0",
            "_view_name": "ProgressView",
            "bar_style": "success",
            "description": "",
            "description_tooltip": null,
            "layout": "IPY_MODEL_81de81b133234d3d9de5c9933168d4d7",
            "max": 4,
            "min": 0,
            "orientation": "horizontal",
            "style": "IPY_MODEL_86a6a0ba31ae41978e93ddebf07ea5cc",
            "value": 4
          }
        },
        "e62d4a8676674e6aad2570ff712fb235": {
          "model_module": "@jupyter-widgets/controls",
          "model_name": "HTMLModel",
          "model_module_version": "1.5.0",
          "state": {
            "_dom_classes": [],
            "_model_module": "@jupyter-widgets/controls",
            "_model_module_version": "1.5.0",
            "_model_name": "HTMLModel",
            "_view_count": null,
            "_view_module": "@jupyter-widgets/controls",
            "_view_module_version": "1.5.0",
            "_view_name": "HTMLView",
            "description": "",
            "description_tooltip": null,
            "layout": "IPY_MODEL_fd486bf237fd4ced8beb41687a1ac415",
            "placeholder": "​",
            "style": "IPY_MODEL_d7584c31acb4464c82ddbe405850fa73",
            "value": " 4/4 [00:00&lt;00:00,  7.41ba/s]"
          }
        },
        "598a0dc9768b43ee90d7d370182c10b0": {
          "model_module": "@jupyter-widgets/base",
          "model_name": "LayoutModel",
          "model_module_version": "1.2.0",
          "state": {
            "_model_module": "@jupyter-widgets/base",
            "_model_module_version": "1.2.0",
            "_model_name": "LayoutModel",
            "_view_count": null,
            "_view_module": "@jupyter-widgets/base",
            "_view_module_version": "1.2.0",
            "_view_name": "LayoutView",
            "align_content": null,
            "align_items": null,
            "align_self": null,
            "border": null,
            "bottom": null,
            "display": null,
            "flex": null,
            "flex_flow": null,
            "grid_area": null,
            "grid_auto_columns": null,
            "grid_auto_flow": null,
            "grid_auto_rows": null,
            "grid_column": null,
            "grid_gap": null,
            "grid_row": null,
            "grid_template_areas": null,
            "grid_template_columns": null,
            "grid_template_rows": null,
            "height": null,
            "justify_content": null,
            "justify_items": null,
            "left": null,
            "margin": null,
            "max_height": null,
            "max_width": null,
            "min_height": null,
            "min_width": null,
            "object_fit": null,
            "object_position": null,
            "order": null,
            "overflow": null,
            "overflow_x": null,
            "overflow_y": null,
            "padding": null,
            "right": null,
            "top": null,
            "visibility": null,
            "width": null
          }
        },
        "f5b7e26f8e6e4889814f85e38f82303f": {
          "model_module": "@jupyter-widgets/base",
          "model_name": "LayoutModel",
          "model_module_version": "1.2.0",
          "state": {
            "_model_module": "@jupyter-widgets/base",
            "_model_module_version": "1.2.0",
            "_model_name": "LayoutModel",
            "_view_count": null,
            "_view_module": "@jupyter-widgets/base",
            "_view_module_version": "1.2.0",
            "_view_name": "LayoutView",
            "align_content": null,
            "align_items": null,
            "align_self": null,
            "border": null,
            "bottom": null,
            "display": null,
            "flex": null,
            "flex_flow": null,
            "grid_area": null,
            "grid_auto_columns": null,
            "grid_auto_flow": null,
            "grid_auto_rows": null,
            "grid_column": null,
            "grid_gap": null,
            "grid_row": null,
            "grid_template_areas": null,
            "grid_template_columns": null,
            "grid_template_rows": null,
            "height": null,
            "justify_content": null,
            "justify_items": null,
            "left": null,
            "margin": null,
            "max_height": null,
            "max_width": null,
            "min_height": null,
            "min_width": null,
            "object_fit": null,
            "object_position": null,
            "order": null,
            "overflow": null,
            "overflow_x": null,
            "overflow_y": null,
            "padding": null,
            "right": null,
            "top": null,
            "visibility": null,
            "width": null
          }
        },
        "88fbfba8886f460aaeb1985856600bce": {
          "model_module": "@jupyter-widgets/controls",
          "model_name": "DescriptionStyleModel",
          "model_module_version": "1.5.0",
          "state": {
            "_model_module": "@jupyter-widgets/controls",
            "_model_module_version": "1.5.0",
            "_model_name": "DescriptionStyleModel",
            "_view_count": null,
            "_view_module": "@jupyter-widgets/base",
            "_view_module_version": "1.2.0",
            "_view_name": "StyleView",
            "description_width": ""
          }
        },
        "81de81b133234d3d9de5c9933168d4d7": {
          "model_module": "@jupyter-widgets/base",
          "model_name": "LayoutModel",
          "model_module_version": "1.2.0",
          "state": {
            "_model_module": "@jupyter-widgets/base",
            "_model_module_version": "1.2.0",
            "_model_name": "LayoutModel",
            "_view_count": null,
            "_view_module": "@jupyter-widgets/base",
            "_view_module_version": "1.2.0",
            "_view_name": "LayoutView",
            "align_content": null,
            "align_items": null,
            "align_self": null,
            "border": null,
            "bottom": null,
            "display": null,
            "flex": null,
            "flex_flow": null,
            "grid_area": null,
            "grid_auto_columns": null,
            "grid_auto_flow": null,
            "grid_auto_rows": null,
            "grid_column": null,
            "grid_gap": null,
            "grid_row": null,
            "grid_template_areas": null,
            "grid_template_columns": null,
            "grid_template_rows": null,
            "height": null,
            "justify_content": null,
            "justify_items": null,
            "left": null,
            "margin": null,
            "max_height": null,
            "max_width": null,
            "min_height": null,
            "min_width": null,
            "object_fit": null,
            "object_position": null,
            "order": null,
            "overflow": null,
            "overflow_x": null,
            "overflow_y": null,
            "padding": null,
            "right": null,
            "top": null,
            "visibility": null,
            "width": null
          }
        },
        "86a6a0ba31ae41978e93ddebf07ea5cc": {
          "model_module": "@jupyter-widgets/controls",
          "model_name": "ProgressStyleModel",
          "model_module_version": "1.5.0",
          "state": {
            "_model_module": "@jupyter-widgets/controls",
            "_model_module_version": "1.5.0",
            "_model_name": "ProgressStyleModel",
            "_view_count": null,
            "_view_module": "@jupyter-widgets/base",
            "_view_module_version": "1.2.0",
            "_view_name": "StyleView",
            "bar_color": null,
            "description_width": ""
          }
        },
        "fd486bf237fd4ced8beb41687a1ac415": {
          "model_module": "@jupyter-widgets/base",
          "model_name": "LayoutModel",
          "model_module_version": "1.2.0",
          "state": {
            "_model_module": "@jupyter-widgets/base",
            "_model_module_version": "1.2.0",
            "_model_name": "LayoutModel",
            "_view_count": null,
            "_view_module": "@jupyter-widgets/base",
            "_view_module_version": "1.2.0",
            "_view_name": "LayoutView",
            "align_content": null,
            "align_items": null,
            "align_self": null,
            "border": null,
            "bottom": null,
            "display": null,
            "flex": null,
            "flex_flow": null,
            "grid_area": null,
            "grid_auto_columns": null,
            "grid_auto_flow": null,
            "grid_auto_rows": null,
            "grid_column": null,
            "grid_gap": null,
            "grid_row": null,
            "grid_template_areas": null,
            "grid_template_columns": null,
            "grid_template_rows": null,
            "height": null,
            "justify_content": null,
            "justify_items": null,
            "left": null,
            "margin": null,
            "max_height": null,
            "max_width": null,
            "min_height": null,
            "min_width": null,
            "object_fit": null,
            "object_position": null,
            "order": null,
            "overflow": null,
            "overflow_x": null,
            "overflow_y": null,
            "padding": null,
            "right": null,
            "top": null,
            "visibility": null,
            "width": null
          }
        },
        "d7584c31acb4464c82ddbe405850fa73": {
          "model_module": "@jupyter-widgets/controls",
          "model_name": "DescriptionStyleModel",
          "model_module_version": "1.5.0",
          "state": {
            "_model_module": "@jupyter-widgets/controls",
            "_model_module_version": "1.5.0",
            "_model_name": "DescriptionStyleModel",
            "_view_count": null,
            "_view_module": "@jupyter-widgets/base",
            "_view_module_version": "1.2.0",
            "_view_name": "StyleView",
            "description_width": ""
          }
        }
      }
    }
  },
  "cells": [
    {
      "cell_type": "markdown",
      "metadata": {
        "id": "view-in-github",
        "colab_type": "text"
      },
      "source": [
        "<a href=\"https://colab.research.google.com/github/Mahdi-Golizadeh/Natural-Language-Processing/blob/main/transformers/token_classification/Token_Classification.ipynb\" target=\"_parent\"><img src=\"https://colab.research.google.com/assets/colab-badge.svg\" alt=\"Open In Colab\"/></a>"
      ]
    },
    {
      "cell_type": "markdown",
      "source": [
        "## Install & Import necessary libraries"
      ],
      "metadata": {
        "id": "_tlNkOe1LWPD"
      }
    },
    {
      "cell_type": "code",
      "execution_count": 113,
      "metadata": {
        "colab": {
          "base_uri": "https://localhost:8080/"
        },
        "id": "MHKCZi17BAIr",
        "outputId": "cb19288f-af09-46ee-fd13-de714a5e82df"
      },
      "outputs": [
        {
          "output_type": "stream",
          "name": "stdout",
          "text": [
            "Looking in indexes: https://pypi.org/simple, https://us-python.pkg.dev/colab-wheels/public/simple/\n",
            "Requirement already satisfied: datasets in /usr/local/lib/python3.8/dist-packages (2.7.1)\n",
            "Requirement already satisfied: tqdm>=4.62.1 in /usr/local/lib/python3.8/dist-packages (from datasets) (4.64.1)\n",
            "Requirement already satisfied: xxhash in /usr/local/lib/python3.8/dist-packages (from datasets) (3.1.0)\n",
            "Requirement already satisfied: huggingface-hub<1.0.0,>=0.2.0 in /usr/local/lib/python3.8/dist-packages (from datasets) (0.11.1)\n",
            "Requirement already satisfied: requests>=2.19.0 in /usr/local/lib/python3.8/dist-packages (from datasets) (2.23.0)\n",
            "Requirement already satisfied: multiprocess in /usr/local/lib/python3.8/dist-packages (from datasets) (0.70.14)\n",
            "Requirement already satisfied: pyyaml>=5.1 in /usr/local/lib/python3.8/dist-packages (from datasets) (6.0)\n",
            "Requirement already satisfied: numpy>=1.17 in /usr/local/lib/python3.8/dist-packages (from datasets) (1.21.6)\n",
            "Requirement already satisfied: pyarrow>=6.0.0 in /usr/local/lib/python3.8/dist-packages (from datasets) (9.0.0)\n",
            "Requirement already satisfied: aiohttp in /usr/local/lib/python3.8/dist-packages (from datasets) (3.8.3)\n",
            "Requirement already satisfied: responses<0.19 in /usr/local/lib/python3.8/dist-packages (from datasets) (0.18.0)\n",
            "Requirement already satisfied: fsspec[http]>=2021.11.1 in /usr/local/lib/python3.8/dist-packages (from datasets) (2022.11.0)\n",
            "Requirement already satisfied: dill<0.3.7 in /usr/local/lib/python3.8/dist-packages (from datasets) (0.3.6)\n",
            "Requirement already satisfied: packaging in /usr/local/lib/python3.8/dist-packages (from datasets) (21.3)\n",
            "Requirement already satisfied: pandas in /usr/local/lib/python3.8/dist-packages (from datasets) (1.3.5)\n",
            "Requirement already satisfied: frozenlist>=1.1.1 in /usr/local/lib/python3.8/dist-packages (from aiohttp->datasets) (1.3.3)\n",
            "Requirement already satisfied: async-timeout<5.0,>=4.0.0a3 in /usr/local/lib/python3.8/dist-packages (from aiohttp->datasets) (4.0.2)\n",
            "Requirement already satisfied: attrs>=17.3.0 in /usr/local/lib/python3.8/dist-packages (from aiohttp->datasets) (22.1.0)\n",
            "Requirement already satisfied: aiosignal>=1.1.2 in /usr/local/lib/python3.8/dist-packages (from aiohttp->datasets) (1.3.1)\n",
            "Requirement already satisfied: charset-normalizer<3.0,>=2.0 in /usr/local/lib/python3.8/dist-packages (from aiohttp->datasets) (2.1.1)\n",
            "Requirement already satisfied: yarl<2.0,>=1.0 in /usr/local/lib/python3.8/dist-packages (from aiohttp->datasets) (1.8.1)\n",
            "Requirement already satisfied: multidict<7.0,>=4.5 in /usr/local/lib/python3.8/dist-packages (from aiohttp->datasets) (6.0.2)\n",
            "Requirement already satisfied: filelock in /usr/local/lib/python3.8/dist-packages (from huggingface-hub<1.0.0,>=0.2.0->datasets) (3.8.0)\n",
            "Requirement already satisfied: typing-extensions>=3.7.4.3 in /usr/local/lib/python3.8/dist-packages (from huggingface-hub<1.0.0,>=0.2.0->datasets) (4.1.1)\n",
            "Requirement already satisfied: pyparsing!=3.0.5,>=2.0.2 in /usr/local/lib/python3.8/dist-packages (from packaging->datasets) (3.0.9)\n",
            "Requirement already satisfied: chardet<4,>=3.0.2 in /usr/local/lib/python3.8/dist-packages (from requests>=2.19.0->datasets) (3.0.4)\n",
            "Requirement already satisfied: urllib3!=1.25.0,!=1.25.1,<1.26,>=1.21.1 in /usr/local/lib/python3.8/dist-packages (from requests>=2.19.0->datasets) (1.25.11)\n",
            "Requirement already satisfied: certifi>=2017.4.17 in /usr/local/lib/python3.8/dist-packages (from requests>=2.19.0->datasets) (2022.9.24)\n",
            "Requirement already satisfied: idna<3,>=2.5 in /usr/local/lib/python3.8/dist-packages (from requests>=2.19.0->datasets) (2.10)\n",
            "Requirement already satisfied: pytz>=2017.3 in /usr/local/lib/python3.8/dist-packages (from pandas->datasets) (2022.6)\n",
            "Requirement already satisfied: python-dateutil>=2.7.3 in /usr/local/lib/python3.8/dist-packages (from pandas->datasets) (2.8.2)\n",
            "Requirement already satisfied: six>=1.5 in /usr/local/lib/python3.8/dist-packages (from python-dateutil>=2.7.3->pandas->datasets) (1.15.0)\n",
            "Looking in indexes: https://pypi.org/simple, https://us-python.pkg.dev/colab-wheels/public/simple/\n",
            "Requirement already satisfied: transformers in /usr/local/lib/python3.8/dist-packages (4.25.1)\n",
            "Requirement already satisfied: numpy>=1.17 in /usr/local/lib/python3.8/dist-packages (from transformers) (1.21.6)\n",
            "Requirement already satisfied: packaging>=20.0 in /usr/local/lib/python3.8/dist-packages (from transformers) (21.3)\n",
            "Requirement already satisfied: requests in /usr/local/lib/python3.8/dist-packages (from transformers) (2.23.0)\n",
            "Requirement already satisfied: tokenizers!=0.11.3,<0.14,>=0.11.1 in /usr/local/lib/python3.8/dist-packages (from transformers) (0.13.2)\n",
            "Requirement already satisfied: filelock in /usr/local/lib/python3.8/dist-packages (from transformers) (3.8.0)\n",
            "Requirement already satisfied: huggingface-hub<1.0,>=0.10.0 in /usr/local/lib/python3.8/dist-packages (from transformers) (0.11.1)\n",
            "Requirement already satisfied: regex!=2019.12.17 in /usr/local/lib/python3.8/dist-packages (from transformers) (2022.6.2)\n",
            "Requirement already satisfied: tqdm>=4.27 in /usr/local/lib/python3.8/dist-packages (from transformers) (4.64.1)\n",
            "Requirement already satisfied: pyyaml>=5.1 in /usr/local/lib/python3.8/dist-packages (from transformers) (6.0)\n",
            "Requirement already satisfied: typing-extensions>=3.7.4.3 in /usr/local/lib/python3.8/dist-packages (from huggingface-hub<1.0,>=0.10.0->transformers) (4.1.1)\n",
            "Requirement already satisfied: pyparsing!=3.0.5,>=2.0.2 in /usr/local/lib/python3.8/dist-packages (from packaging>=20.0->transformers) (3.0.9)\n",
            "Requirement already satisfied: certifi>=2017.4.17 in /usr/local/lib/python3.8/dist-packages (from requests->transformers) (2022.9.24)\n",
            "Requirement already satisfied: urllib3!=1.25.0,!=1.25.1,<1.26,>=1.21.1 in /usr/local/lib/python3.8/dist-packages (from requests->transformers) (1.25.11)\n",
            "Requirement already satisfied: idna<3,>=2.5 in /usr/local/lib/python3.8/dist-packages (from requests->transformers) (2.10)\n",
            "Requirement already satisfied: chardet<4,>=3.0.2 in /usr/local/lib/python3.8/dist-packages (from requests->transformers) (3.0.4)\n",
            "Looking in indexes: https://pypi.org/simple, https://us-python.pkg.dev/colab-wheels/public/simple/\n",
            "\u001b[31mERROR: Could not find a version that satisfies the requirement poseval (from versions: none)\u001b[0m\n",
            "\u001b[31mERROR: No matching distribution found for poseval\u001b[0m\n",
            "Looking in indexes: https://pypi.org/simple, https://us-python.pkg.dev/colab-wheels/public/simple/\n",
            "Requirement already satisfied: evaluate in /usr/local/lib/python3.8/dist-packages (0.3.0)\n",
            "Requirement already satisfied: dill in /usr/local/lib/python3.8/dist-packages (from evaluate) (0.3.6)\n",
            "Requirement already satisfied: numpy>=1.17 in /usr/local/lib/python3.8/dist-packages (from evaluate) (1.21.6)\n",
            "Requirement already satisfied: fsspec[http]>=2021.05.0 in /usr/local/lib/python3.8/dist-packages (from evaluate) (2022.11.0)\n",
            "Requirement already satisfied: multiprocess in /usr/local/lib/python3.8/dist-packages (from evaluate) (0.70.14)\n",
            "Requirement already satisfied: xxhash in /usr/local/lib/python3.8/dist-packages (from evaluate) (3.1.0)\n",
            "Requirement already satisfied: huggingface-hub>=0.7.0 in /usr/local/lib/python3.8/dist-packages (from evaluate) (0.11.1)\n",
            "Requirement already satisfied: responses<0.19 in /usr/local/lib/python3.8/dist-packages (from evaluate) (0.18.0)\n",
            "Requirement already satisfied: pandas in /usr/local/lib/python3.8/dist-packages (from evaluate) (1.3.5)\n",
            "Requirement already satisfied: requests>=2.19.0 in /usr/local/lib/python3.8/dist-packages (from evaluate) (2.23.0)\n",
            "Requirement already satisfied: tqdm>=4.62.1 in /usr/local/lib/python3.8/dist-packages (from evaluate) (4.64.1)\n",
            "Requirement already satisfied: packaging in /usr/local/lib/python3.8/dist-packages (from evaluate) (21.3)\n",
            "Requirement already satisfied: datasets>=2.0.0 in /usr/local/lib/python3.8/dist-packages (from evaluate) (2.7.1)\n",
            "Requirement already satisfied: pyyaml>=5.1 in /usr/local/lib/python3.8/dist-packages (from datasets>=2.0.0->evaluate) (6.0)\n",
            "Requirement already satisfied: pyarrow>=6.0.0 in /usr/local/lib/python3.8/dist-packages (from datasets>=2.0.0->evaluate) (9.0.0)\n",
            "Requirement already satisfied: aiohttp in /usr/local/lib/python3.8/dist-packages (from datasets>=2.0.0->evaluate) (3.8.3)\n",
            "Requirement already satisfied: async-timeout<5.0,>=4.0.0a3 in /usr/local/lib/python3.8/dist-packages (from aiohttp->datasets>=2.0.0->evaluate) (4.0.2)\n",
            "Requirement already satisfied: multidict<7.0,>=4.5 in /usr/local/lib/python3.8/dist-packages (from aiohttp->datasets>=2.0.0->evaluate) (6.0.2)\n",
            "Requirement already satisfied: yarl<2.0,>=1.0 in /usr/local/lib/python3.8/dist-packages (from aiohttp->datasets>=2.0.0->evaluate) (1.8.1)\n",
            "Requirement already satisfied: aiosignal>=1.1.2 in /usr/local/lib/python3.8/dist-packages (from aiohttp->datasets>=2.0.0->evaluate) (1.3.1)\n",
            "Requirement already satisfied: charset-normalizer<3.0,>=2.0 in /usr/local/lib/python3.8/dist-packages (from aiohttp->datasets>=2.0.0->evaluate) (2.1.1)\n",
            "Requirement already satisfied: frozenlist>=1.1.1 in /usr/local/lib/python3.8/dist-packages (from aiohttp->datasets>=2.0.0->evaluate) (1.3.3)\n",
            "Requirement already satisfied: attrs>=17.3.0 in /usr/local/lib/python3.8/dist-packages (from aiohttp->datasets>=2.0.0->evaluate) (22.1.0)\n",
            "Requirement already satisfied: typing-extensions>=3.7.4.3 in /usr/local/lib/python3.8/dist-packages (from huggingface-hub>=0.7.0->evaluate) (4.1.1)\n",
            "Requirement already satisfied: filelock in /usr/local/lib/python3.8/dist-packages (from huggingface-hub>=0.7.0->evaluate) (3.8.0)\n",
            "Requirement already satisfied: pyparsing!=3.0.5,>=2.0.2 in /usr/local/lib/python3.8/dist-packages (from packaging->evaluate) (3.0.9)\n",
            "Requirement already satisfied: idna<3,>=2.5 in /usr/local/lib/python3.8/dist-packages (from requests>=2.19.0->evaluate) (2.10)\n",
            "Requirement already satisfied: certifi>=2017.4.17 in /usr/local/lib/python3.8/dist-packages (from requests>=2.19.0->evaluate) (2022.9.24)\n",
            "Requirement already satisfied: chardet<4,>=3.0.2 in /usr/local/lib/python3.8/dist-packages (from requests>=2.19.0->evaluate) (3.0.4)\n",
            "Requirement already satisfied: urllib3!=1.25.0,!=1.25.1,<1.26,>=1.21.1 in /usr/local/lib/python3.8/dist-packages (from requests>=2.19.0->evaluate) (1.25.11)\n",
            "Requirement already satisfied: python-dateutil>=2.7.3 in /usr/local/lib/python3.8/dist-packages (from pandas->evaluate) (2.8.2)\n",
            "Requirement already satisfied: pytz>=2017.3 in /usr/local/lib/python3.8/dist-packages (from pandas->evaluate) (2022.6)\n",
            "Requirement already satisfied: six>=1.5 in /usr/local/lib/python3.8/dist-packages (from python-dateutil>=2.7.3->pandas->evaluate) (1.15.0)\n"
          ]
        }
      ],
      "source": [
        "!pip install datasets\n",
        "!pip install transformers\n",
        "!pip install poseval\n",
        "!pip install evaluate"
      ]
    },
    {
      "cell_type": "code",
      "source": [
        "import datasets\n",
        "import transformers\n",
        "import evaluate\n",
        "import numpy as np"
      ],
      "metadata": {
        "id": "O1L2V3eFB_nR"
      },
      "execution_count": 114,
      "outputs": []
    },
    {
      "cell_type": "code",
      "source": [],
      "metadata": {
        "id": "CYakyJpmLlLT"
      },
      "execution_count": 114,
      "outputs": []
    },
    {
      "cell_type": "markdown",
      "source": [
        "## Dataset"
      ],
      "metadata": {
        "id": "V0iU9DtYLmQ-"
      }
    },
    {
      "cell_type": "markdown",
      "source": [],
      "metadata": {
        "id": "tThj2q7dL435"
      }
    },
    {
      "cell_type": "code",
      "source": [
        "raw_datasets = datasets.load_dataset(\"conll2003\")"
      ],
      "metadata": {
        "colab": {
          "base_uri": "https://localhost:8080/",
          "height": 67,
          "referenced_widgets": [
            "9aa53246a69447ac94b66ab5347aeff7",
            "c17c6e032a84417e86daf2c5ffac3dcf",
            "a97b014a367c49c19eeee62b44bd82b9",
            "252a3e19616e40bcb1bf7028befeeead",
            "96905a75e26044f5b929b965d6e8a04c",
            "00e555cb88c746d58278a4bd82cdcccf",
            "83395eed8c3440318b548d5f5923a123",
            "f4ba83a94a7848fb85e518e3c7ea0f57",
            "fdbe47ad10dd475dadca05c772bd17b2",
            "d2d42a30c4a549beb4a72dca29788069",
            "a2d84c7ad0024aafa834871edfc26e7e"
          ]
        },
        "id": "PPze7s8KCB9i",
        "outputId": "f80418cb-7a1d-4ad7-9c30-086380934d86"
      },
      "execution_count": 115,
      "outputs": [
        {
          "output_type": "stream",
          "name": "stderr",
          "text": [
            "WARNING:datasets.builder:Found cached dataset conll2003 (/root/.cache/huggingface/datasets/conll2003/conll2003/1.0.0/9a4d16a94f8674ba3466315300359b0acd891b68b6c8743ddf60b9c702adce98)\n"
          ]
        },
        {
          "output_type": "display_data",
          "data": {
            "text/plain": [
              "  0%|          | 0/3 [00:00<?, ?it/s]"
            ],
            "application/vnd.jupyter.widget-view+json": {
              "version_major": 2,
              "version_minor": 0,
              "model_id": "9aa53246a69447ac94b66ab5347aeff7"
            }
          },
          "metadata": {}
        }
      ]
    },
    {
      "cell_type": "code",
      "source": [
        "raw_datasets"
      ],
      "metadata": {
        "colab": {
          "base_uri": "https://localhost:8080/"
        },
        "id": "yJsJVNYiCMqh",
        "outputId": "44ccc262-8c82-4f61-c252-2a72ceeea4ea"
      },
      "execution_count": 116,
      "outputs": [
        {
          "output_type": "execute_result",
          "data": {
            "text/plain": [
              "DatasetDict({\n",
              "    train: Dataset({\n",
              "        features: ['id', 'tokens', 'pos_tags', 'chunk_tags', 'ner_tags'],\n",
              "        num_rows: 14041\n",
              "    })\n",
              "    validation: Dataset({\n",
              "        features: ['id', 'tokens', 'pos_tags', 'chunk_tags', 'ner_tags'],\n",
              "        num_rows: 3250\n",
              "    })\n",
              "    test: Dataset({\n",
              "        features: ['id', 'tokens', 'pos_tags', 'chunk_tags', 'ner_tags'],\n",
              "        num_rows: 3453\n",
              "    })\n",
              "})"
            ]
          },
          "metadata": {},
          "execution_count": 116
        }
      ]
    },
    {
      "cell_type": "code",
      "source": [
        "raw_datasets[\"train\"][0][\"tokens\"], raw_datasets[\"train\"][0][\"pos_tags\"]"
      ],
      "metadata": {
        "colab": {
          "base_uri": "https://localhost:8080/"
        },
        "id": "UCucnnGHFl37",
        "outputId": "37b6f398-2ed4-4bea-d5b9-35c5e3b53085"
      },
      "execution_count": 117,
      "outputs": [
        {
          "output_type": "execute_result",
          "data": {
            "text/plain": [
              "(['EU', 'rejects', 'German', 'call', 'to', 'boycott', 'British', 'lamb', '.'],\n",
              " [22, 42, 16, 21, 35, 37, 16, 21, 7])"
            ]
          },
          "metadata": {},
          "execution_count": 117
        }
      ]
    },
    {
      "cell_type": "code",
      "source": [
        "pos_features = raw_datasets[\"train\"].features[\"pos_tags\"]"
      ],
      "metadata": {
        "id": "I5foRFTwDYER"
      },
      "execution_count": 118,
      "outputs": []
    },
    {
      "cell_type": "code",
      "source": [
        "pos_features"
      ],
      "metadata": {
        "colab": {
          "base_uri": "https://localhost:8080/"
        },
        "id": "4f9ejCuwGh58",
        "outputId": "15520ebf-4102-4f7f-d92b-b5e6ae2f7123"
      },
      "execution_count": 119,
      "outputs": [
        {
          "output_type": "execute_result",
          "data": {
            "text/plain": [
              "Sequence(feature=ClassLabel(names=['\"', \"''\", '#', '$', '(', ')', ',', '.', ':', '``', 'CC', 'CD', 'DT', 'EX', 'FW', 'IN', 'JJ', 'JJR', 'JJS', 'LS', 'MD', 'NN', 'NNP', 'NNPS', 'NNS', 'NN|SYM', 'PDT', 'POS', 'PRP', 'PRP$', 'RB', 'RBR', 'RBS', 'RP', 'SYM', 'TO', 'UH', 'VB', 'VBD', 'VBG', 'VBN', 'VBP', 'VBZ', 'WDT', 'WP', 'WP$', 'WRB'], id=None), length=-1, id=None)"
            ]
          },
          "metadata": {},
          "execution_count": 119
        }
      ]
    },
    {
      "cell_type": "code",
      "source": [
        "label_names = pos_features.feature.names"
      ],
      "metadata": {
        "id": "iPi32K7yDgsA"
      },
      "execution_count": 120,
      "outputs": []
    },
    {
      "cell_type": "code",
      "source": [
        "names = pos_features.feature.names\n",
        "words = raw_datasets[\"train\"][5][\"tokens\"]\n",
        "labels = raw_datasets[\"train\"][5][\"pos_tags\"]\n",
        "l_1 = \"\"\n",
        "l_2 = \"\"\n",
        "for word, label in zip(words, labels):\n",
        "    label_name = names[label]\n",
        "    max_length = max(len(word), len(label_name))\n",
        "    l_1 += word + \" \" * (max_length - len(word) + 1)\n",
        "    if label_name in ['\"', \"''\", '#',  '$',  '(',  ')', ',', '.', ':', '``',]:\n",
        "        l_2 +=\" \" * (max_length + 1)\n",
        "    else:\n",
        "        l_2 += label_name + \" \" * (max_length - len(label_name) + 1)\n",
        "\n",
        "print(l_1, l_2, sep= \"\\n\")"
      ],
      "metadata": {
        "colab": {
          "base_uri": "https://localhost:8080/"
        },
        "id": "ERpftFRTEDYB",
        "outputId": "aca5ba10-fc80-4eea-d75c-2ee63e2b9c12"
      },
      "execution_count": 121,
      "outputs": [
        {
          "output_type": "stream",
          "name": "stdout",
          "text": [
            "\" We  do  n't support any such recommendation because we  do  n't see any grounds for it  , \" the Commission 's  chief spokesman Nikolaus van der Pas told a  news briefing . \n",
            "  PRP VBP RB  VB      DT  JJ   NN             IN      PRP VBP RB  VB  DT  NNS     IN  PRP     DT  NNP        POS JJ    NN        NNP      NNP FW  NNP VBD  DT NN   NN         \n"
          ]
        }
      ]
    },
    {
      "cell_type": "code",
      "source": [
        "checkpoint = \"bert-base-cased\""
      ],
      "metadata": {
        "id": "3nzw-JjyIloT"
      },
      "execution_count": 122,
      "outputs": []
    },
    {
      "cell_type": "code",
      "source": [
        "tokenizer = transformers.AutoTokenizer.from_pretrained(checkpoint)"
      ],
      "metadata": {
        "colab": {
          "base_uri": "https://localhost:8080/"
        },
        "id": "rbtIHz8bM0na",
        "outputId": "861ffc2b-fd5b-46d0-bfdb-6f466ade4fa4"
      },
      "execution_count": 123,
      "outputs": [
        {
          "output_type": "stream",
          "name": "stderr",
          "text": [
            "loading configuration file config.json from cache at /root/.cache/huggingface/hub/models--bert-base-cased/snapshots/5532cc56f74641d4bb33641f5c76a55d11f846e0/config.json\n",
            "Model config BertConfig {\n",
            "  \"_name_or_path\": \"bert-base-cased\",\n",
            "  \"architectures\": [\n",
            "    \"BertForMaskedLM\"\n",
            "  ],\n",
            "  \"attention_probs_dropout_prob\": 0.1,\n",
            "  \"classifier_dropout\": null,\n",
            "  \"gradient_checkpointing\": false,\n",
            "  \"hidden_act\": \"gelu\",\n",
            "  \"hidden_dropout_prob\": 0.1,\n",
            "  \"hidden_size\": 768,\n",
            "  \"initializer_range\": 0.02,\n",
            "  \"intermediate_size\": 3072,\n",
            "  \"layer_norm_eps\": 1e-12,\n",
            "  \"max_position_embeddings\": 512,\n",
            "  \"model_type\": \"bert\",\n",
            "  \"num_attention_heads\": 12,\n",
            "  \"num_hidden_layers\": 12,\n",
            "  \"pad_token_id\": 0,\n",
            "  \"position_embedding_type\": \"absolute\",\n",
            "  \"transformers_version\": \"4.25.1\",\n",
            "  \"type_vocab_size\": 2,\n",
            "  \"use_cache\": true,\n",
            "  \"vocab_size\": 28996\n",
            "}\n",
            "\n",
            "loading file vocab.txt from cache at /root/.cache/huggingface/hub/models--bert-base-cased/snapshots/5532cc56f74641d4bb33641f5c76a55d11f846e0/vocab.txt\n",
            "loading file tokenizer.json from cache at /root/.cache/huggingface/hub/models--bert-base-cased/snapshots/5532cc56f74641d4bb33641f5c76a55d11f846e0/tokenizer.json\n",
            "loading file added_tokens.json from cache at None\n",
            "loading file special_tokens_map.json from cache at None\n",
            "loading file tokenizer_config.json from cache at /root/.cache/huggingface/hub/models--bert-base-cased/snapshots/5532cc56f74641d4bb33641f5c76a55d11f846e0/tokenizer_config.json\n",
            "loading configuration file config.json from cache at /root/.cache/huggingface/hub/models--bert-base-cased/snapshots/5532cc56f74641d4bb33641f5c76a55d11f846e0/config.json\n",
            "Model config BertConfig {\n",
            "  \"_name_or_path\": \"bert-base-cased\",\n",
            "  \"architectures\": [\n",
            "    \"BertForMaskedLM\"\n",
            "  ],\n",
            "  \"attention_probs_dropout_prob\": 0.1,\n",
            "  \"classifier_dropout\": null,\n",
            "  \"gradient_checkpointing\": false,\n",
            "  \"hidden_act\": \"gelu\",\n",
            "  \"hidden_dropout_prob\": 0.1,\n",
            "  \"hidden_size\": 768,\n",
            "  \"initializer_range\": 0.02,\n",
            "  \"intermediate_size\": 3072,\n",
            "  \"layer_norm_eps\": 1e-12,\n",
            "  \"max_position_embeddings\": 512,\n",
            "  \"model_type\": \"bert\",\n",
            "  \"num_attention_heads\": 12,\n",
            "  \"num_hidden_layers\": 12,\n",
            "  \"pad_token_id\": 0,\n",
            "  \"position_embedding_type\": \"absolute\",\n",
            "  \"transformers_version\": \"4.25.1\",\n",
            "  \"type_vocab_size\": 2,\n",
            "  \"use_cache\": true,\n",
            "  \"vocab_size\": 28996\n",
            "}\n",
            "\n"
          ]
        }
      ]
    },
    {
      "cell_type": "code",
      "source": [
        "tokenizer.is_fast\n"
      ],
      "metadata": {
        "colab": {
          "base_uri": "https://localhost:8080/"
        },
        "id": "bLW65qbANRHb",
        "outputId": "9fdffbd5-c995-4595-c1be-b18c2a9697b0"
      },
      "execution_count": 124,
      "outputs": [
        {
          "output_type": "execute_result",
          "data": {
            "text/plain": [
              "True"
            ]
          },
          "metadata": {},
          "execution_count": 124
        }
      ]
    },
    {
      "cell_type": "code",
      "source": [
        "inputs = tokenizer(raw_datasets[\"train\"][2][\"tokens\"],\n",
        "                   is_split_into_words= True)"
      ],
      "metadata": {
        "id": "E9wLCVd8NVEC"
      },
      "execution_count": 125,
      "outputs": []
    },
    {
      "cell_type": "code",
      "source": [
        "inputs"
      ],
      "metadata": {
        "colab": {
          "base_uri": "https://localhost:8080/"
        },
        "id": "uQiZPohrPsVf",
        "outputId": "34a44816-0c9a-4b3f-9f43-60b45d3853cc"
      },
      "execution_count": 126,
      "outputs": [
        {
          "output_type": "execute_result",
          "data": {
            "text/plain": [
              "{'input_ids': [101, 26660, 13329, 12649, 15928, 1820, 118, 4775, 118, 1659, 102], 'token_type_ids': [0, 0, 0, 0, 0, 0, 0, 0, 0, 0, 0], 'attention_mask': [1, 1, 1, 1, 1, 1, 1, 1, 1, 1, 1]}"
            ]
          },
          "metadata": {},
          "execution_count": 126
        }
      ]
    },
    {
      "cell_type": "code",
      "source": [
        "inputs.tokens()"
      ],
      "metadata": {
        "colab": {
          "base_uri": "https://localhost:8080/"
        },
        "id": "EaQ-ZfIVNqnK",
        "outputId": "6aa7101a-f44a-462b-a222-cf274b249569"
      },
      "execution_count": 127,
      "outputs": [
        {
          "output_type": "execute_result",
          "data": {
            "text/plain": [
              "['[CLS]', 'BR', '##US', '##SE', '##LS', '1996', '-', '08', '-', '22', '[SEP]']"
            ]
          },
          "metadata": {},
          "execution_count": 127
        }
      ]
    },
    {
      "cell_type": "code",
      "source": [
        "inputs.word_ids()"
      ],
      "metadata": {
        "colab": {
          "base_uri": "https://localhost:8080/"
        },
        "id": "EZx1zBv0NsH3",
        "outputId": "42cda8c1-a99a-45a7-eb95-fbc6c30308c7"
      },
      "execution_count": 128,
      "outputs": [
        {
          "output_type": "execute_result",
          "data": {
            "text/plain": [
              "[None, 0, 0, 0, 0, 1, 1, 1, 1, 1, None]"
            ]
          },
          "metadata": {},
          "execution_count": 128
        }
      ]
    },
    {
      "cell_type": "markdown",
      "source": [
        "we are required to convert special tokens into -100 in order to be ignored by loss function"
      ],
      "metadata": {
        "id": "FjoZTPorOJJP"
      }
    },
    {
      "cell_type": "code",
      "source": [
        "def special_token_care(labels, word_ids):\n",
        "    new_labels = []\n",
        "    current_word = None\n",
        "    for word_id in word_ids:\n",
        "        if word_id != current_word:\n",
        "            current_word = word_id\n",
        "            label = -100 if word_id is None else labels[word_id]\n",
        "            new_labels.append(label)\n",
        "        elif word_id is None:\n",
        "            new_labels.append(-100)\n",
        "        else:\n",
        "            label = labels[word_id]\n",
        "    return new_labels"
      ],
      "metadata": {
        "id": "EKm6YLlbN4lp"
      },
      "execution_count": 129,
      "outputs": []
    },
    {
      "cell_type": "code",
      "source": [
        "def tokenize_and_care(example):\n",
        "    tokenized_input = tokenizer(example[\"tokens\"],\n",
        "                                truncation= True,\n",
        "                                is_split_into_words= True)\n",
        "    all_labels = example[\"pos_tags\"]\n",
        "    new_labels = []\n",
        "    for i, labels in enumerate(all_labels):\n",
        "        word_ids = tokenized_input.word_ids(i)\n",
        "        new_labels.append(special_token_care(labels, word_ids))\n",
        "        tokenized_input[\"labels\"] = new_labels\n",
        "    return tokenized_input"
      ],
      "metadata": {
        "id": "gf59Aq2cdclE"
      },
      "execution_count": 130,
      "outputs": []
    },
    {
      "cell_type": "code",
      "source": [
        "tokenized_datasets = raw_datasets.map(tokenize_and_care, \n",
        "                                      batched= True,\n",
        "                                      remove_columns= raw_datasets[\"train\"].column_names)"
      ],
      "metadata": {
        "colab": {
          "base_uri": "https://localhost:8080/",
          "height": 105,
          "referenced_widgets": [
            "921245dd7b0b4b41898cb9065524eaa6",
            "20f4e5d212ee4ed985edecd66828845d",
            "ef8d7b8ecc5d4c45ae288778ec61fd1d",
            "e62d4a8676674e6aad2570ff712fb235",
            "598a0dc9768b43ee90d7d370182c10b0",
            "f5b7e26f8e6e4889814f85e38f82303f",
            "88fbfba8886f460aaeb1985856600bce",
            "81de81b133234d3d9de5c9933168d4d7",
            "86a6a0ba31ae41978e93ddebf07ea5cc",
            "fd486bf237fd4ced8beb41687a1ac415",
            "d7584c31acb4464c82ddbe405850fa73"
          ]
        },
        "id": "lReEMKZeTtPu",
        "outputId": "195796d9-5289-4585-8783-997a92da3b5e"
      },
      "execution_count": 131,
      "outputs": [
        {
          "output_type": "stream",
          "name": "stderr",
          "text": [
            "WARNING:datasets.arrow_dataset:Loading cached processed dataset at /root/.cache/huggingface/datasets/conll2003/conll2003/1.0.0/9a4d16a94f8674ba3466315300359b0acd891b68b6c8743ddf60b9c702adce98/cache-9a9c229d02e05517.arrow\n"
          ]
        },
        {
          "output_type": "display_data",
          "data": {
            "text/plain": [
              "  0%|          | 0/4 [00:00<?, ?ba/s]"
            ],
            "application/vnd.jupyter.widget-view+json": {
              "version_major": 2,
              "version_minor": 0,
              "model_id": "921245dd7b0b4b41898cb9065524eaa6"
            }
          },
          "metadata": {}
        },
        {
          "output_type": "stream",
          "name": "stderr",
          "text": [
            "WARNING:datasets.arrow_dataset:Loading cached processed dataset at /root/.cache/huggingface/datasets/conll2003/conll2003/1.0.0/9a4d16a94f8674ba3466315300359b0acd891b68b6c8743ddf60b9c702adce98/cache-3fe3d633a38f8dd2.arrow\n"
          ]
        }
      ]
    },
    {
      "cell_type": "code",
      "source": [
        "tokenized_datasets[\"train\"][12]"
      ],
      "metadata": {
        "colab": {
          "base_uri": "https://localhost:8080/"
        },
        "id": "IRCvz29MXGI0",
        "outputId": "e4d4a3ff-c05d-47ff-bbeb-290ea87a2bc7"
      },
      "execution_count": 132,
      "outputs": [
        {
          "output_type": "execute_result",
          "data": {
            "text/plain": [
              "{'input_ids': [101,\n",
              "  2809,\n",
              "  1699,\n",
              "  1105,\n",
              "  2855,\n",
              "  5534,\n",
              "  17355,\n",
              "  9022,\n",
              "  2879,\n",
              "  112,\n",
              "  188,\n",
              "  5835,\n",
              "  119,\n",
              "  102],\n",
              " 'token_type_ids': [0, 0, 0, 0, 0, 0, 0, 0, 0, 0, 0, 0, 0, 0],\n",
              " 'attention_mask': [1, 1, 1, 1, 1, 1, 1, 1, 1, 1, 1, 1, 1, 1],\n",
              " 'labels': [-100, 30, 22, 10, 22, 38, 22, 27, 21, 7, -100]}"
            ]
          },
          "metadata": {},
          "execution_count": 132
        }
      ]
    },
    {
      "cell_type": "code",
      "source": [
        "data_collator = transformers.DataCollatorForTokenClassification(tokenizer= tokenizer)"
      ],
      "metadata": {
        "id": "mphU7Xffe38-"
      },
      "execution_count": 133,
      "outputs": []
    },
    {
      "cell_type": "code",
      "source": [
        "batch = data_collator([tokenized_datasets[\"train\"][i] for i in range(2)])"
      ],
      "metadata": {
        "colab": {
          "base_uri": "https://localhost:8080/"
        },
        "id": "8Uj3wOyDhStd",
        "outputId": "2165a5df-0029-44a5-a4d2-887812e0f082"
      },
      "execution_count": 134,
      "outputs": [
        {
          "output_type": "stream",
          "name": "stderr",
          "text": [
            "You're using a BertTokenizerFast tokenizer. Please note that with a fast tokenizer, using the `__call__` method is faster than using a method to encode the text followed by a call to the `pad` method to get a padded encoding.\n"
          ]
        }
      ]
    },
    {
      "cell_type": "code",
      "source": [
        "batch[\"input_ids\"]"
      ],
      "metadata": {
        "colab": {
          "base_uri": "https://localhost:8080/"
        },
        "id": "j3BxrLqyhoOU",
        "outputId": "dadb2635-7289-47fb-f746-c4fd4babd2ea"
      },
      "execution_count": 135,
      "outputs": [
        {
          "output_type": "execute_result",
          "data": {
            "text/plain": [
              "tensor([[  101,  7270, 22961,  1528,  1840,  1106, 21423,  1418,  2495, 12913,\n",
              "           119,   102],\n",
              "        [  101,  1943, 14428,   102,     0,     0,     0,     0,     0,     0,\n",
              "             0,     0]])"
            ]
          },
          "metadata": {},
          "execution_count": 135
        }
      ]
    },
    {
      "cell_type": "code",
      "source": [
        "metric = evaluate.load(\"poseval\")"
      ],
      "metadata": {
        "id": "WIu-wPcbhtSU"
      },
      "execution_count": 136,
      "outputs": []
    },
    {
      "cell_type": "code",
      "source": [
        "metric"
      ],
      "metadata": {
        "colab": {
          "base_uri": "https://localhost:8080/"
        },
        "id": "QMHyVILlk1rY",
        "outputId": "adb1dca6-7f49-4dbb-bd2b-65197eaa931d"
      },
      "execution_count": 137,
      "outputs": [
        {
          "output_type": "execute_result",
          "data": {
            "text/plain": [
              "EvaluationModule(name: \"poseval\", module_type: \"metric\", features: {'predictions': Sequence(feature=Value(dtype='string', id='label'), length=-1, id='sequence'), 'references': Sequence(feature=Value(dtype='string', id='label'), length=-1, id='sequence')}, usage: \"\"\"\n",
              "Computes the poseval metric.\n",
              "\n",
              "Args:\n",
              "    predictions: List of List of predicted labels (Estimated targets as returned by a tagger)\n",
              "    references: List of List of reference labels (Ground truth (correct) target values)\n",
              "    zero_division: Which value to substitute as a metric value when encountering zero division. Should be on of 0, 1,\n",
              "        \"warn\". \"warn\" acts as 0, but the warning is raised.\n",
              "\n",
              "Returns:\n",
              "    'scores': dict. Summary of the scores for overall and per type\n",
              "        Overall (weighted and macro avg):\n",
              "            'accuracy': accuracy,\n",
              "            'precision': precision,\n",
              "            'recall': recall,\n",
              "            'f1': F1 score, also known as balanced F-score or F-measure,\n",
              "        Per type:\n",
              "            'precision': precision,\n",
              "            'recall': recall,\n",
              "            'f1': F1 score, also known as balanced F-score or F-measure\n",
              "Examples:\n",
              "\n",
              "    >>> predictions = [['INTJ', 'ADP', 'PROPN', 'NOUN', 'PUNCT', 'INTJ', 'ADP', 'PROPN', 'VERB', 'SYM']]\n",
              "    >>> references = [['INTJ', 'ADP', 'PROPN', 'PROPN', 'PUNCT', 'INTJ', 'ADP', 'PROPN', 'PROPN', 'SYM']]\n",
              "    >>> poseval = evaluate.load(\"poseval\")\n",
              "    >>> results = poseval.compute(predictions=predictions, references=references)\n",
              "    >>> print(list(results.keys()))\n",
              "    ['ADP', 'INTJ', 'NOUN', 'PROPN', 'PUNCT', 'SYM', 'VERB', 'accuracy', 'macro avg', 'weighted avg']\n",
              "    >>> print(results[\"accuracy\"])\n",
              "    0.8\n",
              "    >>> print(results[\"PROPN\"][\"recall\"])\n",
              "    0.5\n",
              "\"\"\", stored examples: 0)"
            ]
          },
          "metadata": {},
          "execution_count": 137
        }
      ]
    },
    {
      "cell_type": "code",
      "source": [
        "def compute_metric(eval_preds):\n",
        "    logits, labels = eval_preds\n",
        "    predictions = np.argmax(logits, axis= -1)\n",
        "    true_labels = [[label_names[l] for l in label if l != -100] for label in labels]\n",
        "    true_predictions = [[label_names[p] for (p,l) in zip(prediction, label) if l != -100] for prediction, label in zip(predictions, labels)]\n",
        "    metrics = metric.compute(predictions= true_predictions,\n",
        "                             references= true_labels)\n",
        "    return {\"precision\": metrics[\"weighted avg\"][\"precision\"],\n",
        "            \"recall\": metrics[\"weighted avg\"][\"recall\"],\n",
        "            \"f1\":metrics[\"weighted avg\"][\"f1-score\"],}"
      ],
      "metadata": {
        "id": "qhEB2QC2ihZt"
      },
      "execution_count": 162,
      "outputs": []
    },
    {
      "cell_type": "code",
      "source": [
        "labels = raw_datasets[\"train\"][0][\"pos_tags\"]\n",
        "labels = [label_names[i] for i in labels]\n",
        "predictions = labels.copy()\n",
        "predictions[2] = \"VB\"\n",
        "result = metric.compute(predictions= [predictions],\n",
        "               references= [labels])"
      ],
      "metadata": {
        "id": "7ljXUyGmkyy8"
      },
      "execution_count": 163,
      "outputs": []
    },
    {
      "cell_type": "code",
      "source": [
        "result[\"weighted avg\"]"
      ],
      "metadata": {
        "colab": {
          "base_uri": "https://localhost:8080/"
        },
        "id": "zcymyF96l17K",
        "outputId": "f4c9244e-065e-4766-8d7c-4cf06fba6173"
      },
      "execution_count": 164,
      "outputs": [
        {
          "output_type": "execute_result",
          "data": {
            "text/plain": [
              "{'precision': 0.9444444444444444,\n",
              " 'recall': 0.8888888888888888,\n",
              " 'f1-score': 0.8888888888888888,\n",
              " 'support': 9}"
            ]
          },
          "metadata": {},
          "execution_count": 164
        }
      ]
    },
    {
      "cell_type": "code",
      "source": [
        "id2labels = {i: label for i, label in enumerate(label_names)}\n",
        "label2ids = {v: k for k, v in id2labels.items()}"
      ],
      "metadata": {
        "id": "m5SMmtwqnM94"
      },
      "execution_count": 165,
      "outputs": []
    },
    {
      "cell_type": "code",
      "source": [
        "model = transformers.AutoModelForTokenClassification.from_pretrained(checkpoint,\n",
        "                                                                     id2label=id2labels,\n",
        "                                                                     label2id= label2ids)"
      ],
      "metadata": {
        "colab": {
          "base_uri": "https://localhost:8080/"
        },
        "id": "UoZUv7JHoITQ",
        "outputId": "60752cf1-4f39-4333-aa55-8099fa8eca0d"
      },
      "execution_count": 166,
      "outputs": [
        {
          "output_type": "stream",
          "name": "stderr",
          "text": [
            "loading configuration file config.json from cache at /root/.cache/huggingface/hub/models--bert-base-cased/snapshots/5532cc56f74641d4bb33641f5c76a55d11f846e0/config.json\n",
            "Model config BertConfig {\n",
            "  \"_name_or_path\": \"bert-base-cased\",\n",
            "  \"architectures\": [\n",
            "    \"BertForMaskedLM\"\n",
            "  ],\n",
            "  \"attention_probs_dropout_prob\": 0.1,\n",
            "  \"classifier_dropout\": null,\n",
            "  \"gradient_checkpointing\": false,\n",
            "  \"hidden_act\": \"gelu\",\n",
            "  \"hidden_dropout_prob\": 0.1,\n",
            "  \"hidden_size\": 768,\n",
            "  \"id2label\": {\n",
            "    \"0\": \"\\\"\",\n",
            "    \"1\": \"''\",\n",
            "    \"2\": \"#\",\n",
            "    \"3\": \"$\",\n",
            "    \"4\": \"(\",\n",
            "    \"5\": \")\",\n",
            "    \"6\": \",\",\n",
            "    \"7\": \".\",\n",
            "    \"8\": \":\",\n",
            "    \"9\": \"``\",\n",
            "    \"10\": \"CC\",\n",
            "    \"11\": \"CD\",\n",
            "    \"12\": \"DT\",\n",
            "    \"13\": \"EX\",\n",
            "    \"14\": \"FW\",\n",
            "    \"15\": \"IN\",\n",
            "    \"16\": \"JJ\",\n",
            "    \"17\": \"JJR\",\n",
            "    \"18\": \"JJS\",\n",
            "    \"19\": \"LS\",\n",
            "    \"20\": \"MD\",\n",
            "    \"21\": \"NN\",\n",
            "    \"22\": \"NNP\",\n",
            "    \"23\": \"NNPS\",\n",
            "    \"24\": \"NNS\",\n",
            "    \"25\": \"NN|SYM\",\n",
            "    \"26\": \"PDT\",\n",
            "    \"27\": \"POS\",\n",
            "    \"28\": \"PRP\",\n",
            "    \"29\": \"PRP$\",\n",
            "    \"30\": \"RB\",\n",
            "    \"31\": \"RBR\",\n",
            "    \"32\": \"RBS\",\n",
            "    \"33\": \"RP\",\n",
            "    \"34\": \"SYM\",\n",
            "    \"35\": \"TO\",\n",
            "    \"36\": \"UH\",\n",
            "    \"37\": \"VB\",\n",
            "    \"38\": \"VBD\",\n",
            "    \"39\": \"VBG\",\n",
            "    \"40\": \"VBN\",\n",
            "    \"41\": \"VBP\",\n",
            "    \"42\": \"VBZ\",\n",
            "    \"43\": \"WDT\",\n",
            "    \"44\": \"WP\",\n",
            "    \"45\": \"WP$\",\n",
            "    \"46\": \"WRB\"\n",
            "  },\n",
            "  \"initializer_range\": 0.02,\n",
            "  \"intermediate_size\": 3072,\n",
            "  \"label2id\": {\n",
            "    \"\\\"\": 0,\n",
            "    \"#\": 2,\n",
            "    \"$\": 3,\n",
            "    \"''\": 1,\n",
            "    \"(\": 4,\n",
            "    \")\": 5,\n",
            "    \",\": 6,\n",
            "    \".\": 7,\n",
            "    \":\": 8,\n",
            "    \"CC\": 10,\n",
            "    \"CD\": 11,\n",
            "    \"DT\": 12,\n",
            "    \"EX\": 13,\n",
            "    \"FW\": 14,\n",
            "    \"IN\": 15,\n",
            "    \"JJ\": 16,\n",
            "    \"JJR\": 17,\n",
            "    \"JJS\": 18,\n",
            "    \"LS\": 19,\n",
            "    \"MD\": 20,\n",
            "    \"NN\": 21,\n",
            "    \"NNP\": 22,\n",
            "    \"NNPS\": 23,\n",
            "    \"NNS\": 24,\n",
            "    \"NN|SYM\": 25,\n",
            "    \"PDT\": 26,\n",
            "    \"POS\": 27,\n",
            "    \"PRP\": 28,\n",
            "    \"PRP$\": 29,\n",
            "    \"RB\": 30,\n",
            "    \"RBR\": 31,\n",
            "    \"RBS\": 32,\n",
            "    \"RP\": 33,\n",
            "    \"SYM\": 34,\n",
            "    \"TO\": 35,\n",
            "    \"UH\": 36,\n",
            "    \"VB\": 37,\n",
            "    \"VBD\": 38,\n",
            "    \"VBG\": 39,\n",
            "    \"VBN\": 40,\n",
            "    \"VBP\": 41,\n",
            "    \"VBZ\": 42,\n",
            "    \"WDT\": 43,\n",
            "    \"WP\": 44,\n",
            "    \"WP$\": 45,\n",
            "    \"WRB\": 46,\n",
            "    \"``\": 9\n",
            "  },\n",
            "  \"layer_norm_eps\": 1e-12,\n",
            "  \"max_position_embeddings\": 512,\n",
            "  \"model_type\": \"bert\",\n",
            "  \"num_attention_heads\": 12,\n",
            "  \"num_hidden_layers\": 12,\n",
            "  \"pad_token_id\": 0,\n",
            "  \"position_embedding_type\": \"absolute\",\n",
            "  \"transformers_version\": \"4.25.1\",\n",
            "  \"type_vocab_size\": 2,\n",
            "  \"use_cache\": true,\n",
            "  \"vocab_size\": 28996\n",
            "}\n",
            "\n",
            "loading weights file pytorch_model.bin from cache at /root/.cache/huggingface/hub/models--bert-base-cased/snapshots/5532cc56f74641d4bb33641f5c76a55d11f846e0/pytorch_model.bin\n",
            "Some weights of the model checkpoint at bert-base-cased were not used when initializing BertForTokenClassification: ['cls.predictions.transform.LayerNorm.weight', 'cls.predictions.transform.dense.bias', 'cls.predictions.bias', 'cls.predictions.transform.LayerNorm.bias', 'cls.seq_relationship.weight', 'cls.predictions.transform.dense.weight', 'cls.predictions.decoder.weight', 'cls.seq_relationship.bias']\n",
            "- This IS expected if you are initializing BertForTokenClassification from the checkpoint of a model trained on another task or with another architecture (e.g. initializing a BertForSequenceClassification model from a BertForPreTraining model).\n",
            "- This IS NOT expected if you are initializing BertForTokenClassification from the checkpoint of a model that you expect to be exactly identical (initializing a BertForSequenceClassification model from a BertForSequenceClassification model).\n",
            "Some weights of BertForTokenClassification were not initialized from the model checkpoint at bert-base-cased and are newly initialized: ['classifier.bias', 'classifier.weight']\n",
            "You should probably TRAIN this model on a down-stream task to be able to use it for predictions and inference.\n"
          ]
        }
      ]
    },
    {
      "cell_type": "code",
      "source": [
        "model.config.num_labels"
      ],
      "metadata": {
        "colab": {
          "base_uri": "https://localhost:8080/"
        },
        "id": "omss1wZcoOTP",
        "outputId": "102b5138-b496-4c4f-8f40-e575eefaa633"
      },
      "execution_count": 167,
      "outputs": [
        {
          "output_type": "execute_result",
          "data": {
            "text/plain": [
              "47"
            ]
          },
          "metadata": {},
          "execution_count": 167
        }
      ]
    },
    {
      "cell_type": "code",
      "source": [
        "len(id2labels)"
      ],
      "metadata": {
        "colab": {
          "base_uri": "https://localhost:8080/"
        },
        "id": "we8rTvOMo7Gf",
        "outputId": "e1dc8661-dd9b-463c-d789-64da8e7de9b9"
      },
      "execution_count": 168,
      "outputs": [
        {
          "output_type": "execute_result",
          "data": {
            "text/plain": [
              "47"
            ]
          },
          "metadata": {},
          "execution_count": 168
        }
      ]
    },
    {
      "cell_type": "code",
      "source": [
        "args = transformers.TrainingArguments(\"bert-finetuned-pos\",\n",
        "                                      evaluation_strategy= \"epoch\",\n",
        "                                      save_strategy= \"epoch\",\n",
        "                                      save_total_limit= 2,\n",
        "                                      fp16= True,\n",
        "                                      learning_rate= 2e-5,\n",
        "                                      num_train_epochs= 2,\n",
        "                                      weight_decay= .01)"
      ],
      "metadata": {
        "id": "gfe6ZENwo-e4",
        "colab": {
          "base_uri": "https://localhost:8080/"
        },
        "outputId": "7fa8f3e1-9a70-44d8-ecc2-ad1613544d54"
      },
      "execution_count": 169,
      "outputs": [
        {
          "output_type": "stream",
          "name": "stderr",
          "text": [
            "PyTorch: setting up devices\n",
            "The default value for the training argument `--report_to` will change in v5 (from all installed integrations to none). In v5, you will need to use `--report_to all` to get the same behavior as now. You should start updating your code and make this info disappear :-).\n"
          ]
        }
      ]
    },
    {
      "cell_type": "code",
      "source": [
        "trainer = transformers.Trainer(model= model,\n",
        "                               args= args,\n",
        "                               train_dataset= tokenized_datasets[\"train\"],\n",
        "                               eval_dataset= tokenized_datasets[\"validation\"],\n",
        "                               data_collator= data_collator,\n",
        "                               compute_metrics= compute_metric,\n",
        "                               tokenizer= tokenizer)"
      ],
      "metadata": {
        "id": "eEq8I8U_po1P",
        "colab": {
          "base_uri": "https://localhost:8080/"
        },
        "outputId": "c92a3bac-bad5-4dce-ea29-502ab5f94d53"
      },
      "execution_count": 170,
      "outputs": [
        {
          "output_type": "stream",
          "name": "stderr",
          "text": [
            "Using cuda_amp half precision backend\n"
          ]
        }
      ]
    },
    {
      "cell_type": "code",
      "source": [
        "example = tokenized_datasets[\"test\"][0]"
      ],
      "metadata": {
        "id": "HunReWWPk4fw"
      },
      "execution_count": 171,
      "outputs": []
    },
    {
      "cell_type": "code",
      "source": [
        "# model(**example)"
      ],
      "metadata": {
        "id": "I0g7-1RVlNpd"
      },
      "execution_count": 172,
      "outputs": []
    },
    {
      "cell_type": "code",
      "source": [
        "trainer.train()"
      ],
      "metadata": {
        "colab": {
          "base_uri": "https://localhost:8080/",
          "height": 958
        },
        "id": "1G0DQ-TYqVrG",
        "outputId": "cd634230-eff4-417e-997d-ad3e9fd0f02e"
      },
      "execution_count": 173,
      "outputs": [
        {
          "output_type": "stream",
          "name": "stderr",
          "text": [
            "/usr/local/lib/python3.8/dist-packages/transformers/optimization.py:306: FutureWarning: This implementation of AdamW is deprecated and will be removed in a future version. Use the PyTorch implementation torch.optim.AdamW instead, or set `no_deprecation_warning=True` to disable this warning\n",
            "  warnings.warn(\n",
            "***** Running training *****\n",
            "  Num examples = 14041\n",
            "  Num Epochs = 2\n",
            "  Instantaneous batch size per device = 8\n",
            "  Total train batch size (w. parallel, distributed & accumulation) = 8\n",
            "  Gradient Accumulation steps = 1\n",
            "  Total optimization steps = 3512\n",
            "  Number of trainable parameters = 107755823\n"
          ]
        },
        {
          "output_type": "display_data",
          "data": {
            "text/plain": [
              "<IPython.core.display.HTML object>"
            ],
            "text/html": [
              "\n",
              "    <div>\n",
              "      \n",
              "      <progress value='3512' max='3512' style='width:300px; height:20px; vertical-align: middle;'></progress>\n",
              "      [3512/3512 06:26, Epoch 2/2]\n",
              "    </div>\n",
              "    <table border=\"1\" class=\"dataframe\">\n",
              "  <thead>\n",
              " <tr style=\"text-align: left;\">\n",
              "      <th>Epoch</th>\n",
              "      <th>Training Loss</th>\n",
              "      <th>Validation Loss</th>\n",
              "      <th>Precision</th>\n",
              "      <th>Recall</th>\n",
              "      <th>F1</th>\n",
              "    </tr>\n",
              "  </thead>\n",
              "  <tbody>\n",
              "    <tr>\n",
              "      <td>1</td>\n",
              "      <td>1.148500</td>\n",
              "      <td>0.848467</td>\n",
              "      <td>0.686173</td>\n",
              "      <td>0.684455</td>\n",
              "      <td>0.679757</td>\n",
              "    </tr>\n",
              "    <tr>\n",
              "      <td>2</td>\n",
              "      <td>0.737900</td>\n",
              "      <td>0.653457</td>\n",
              "      <td>0.757103</td>\n",
              "      <td>0.759122</td>\n",
              "      <td>0.754692</td>\n",
              "    </tr>\n",
              "  </tbody>\n",
              "</table><p>"
            ]
          },
          "metadata": {}
        },
        {
          "output_type": "stream",
          "name": "stderr",
          "text": [
            "***** Running Evaluation *****\n",
            "  Num examples = 3250\n",
            "  Batch size = 8\n",
            "/usr/local/lib/python3.8/dist-packages/sklearn/metrics/_classification.py:1318: UndefinedMetricWarning: Precision and F-score are ill-defined and being set to 0.0 in labels with no predicted samples. Use `zero_division` parameter to control this behavior.\n",
            "  _warn_prf(average, modifier, msg_start, len(result))\n",
            "/usr/local/lib/python3.8/dist-packages/sklearn/metrics/_classification.py:1318: UndefinedMetricWarning: Precision and F-score are ill-defined and being set to 0.0 in labels with no predicted samples. Use `zero_division` parameter to control this behavior.\n",
            "  _warn_prf(average, modifier, msg_start, len(result))\n",
            "/usr/local/lib/python3.8/dist-packages/sklearn/metrics/_classification.py:1318: UndefinedMetricWarning: Precision and F-score are ill-defined and being set to 0.0 in labels with no predicted samples. Use `zero_division` parameter to control this behavior.\n",
            "  _warn_prf(average, modifier, msg_start, len(result))\n",
            "Saving model checkpoint to bert-finetuned-pos/checkpoint-1756\n",
            "Configuration saved in bert-finetuned-pos/checkpoint-1756/config.json\n",
            "Model weights saved in bert-finetuned-pos/checkpoint-1756/pytorch_model.bin\n",
            "tokenizer config file saved in bert-finetuned-pos/checkpoint-1756/tokenizer_config.json\n",
            "Special tokens file saved in bert-finetuned-pos/checkpoint-1756/special_tokens_map.json\n",
            "***** Running Evaluation *****\n",
            "  Num examples = 3250\n",
            "  Batch size = 8\n",
            "/usr/local/lib/python3.8/dist-packages/sklearn/metrics/_classification.py:1318: UndefinedMetricWarning: Precision and F-score are ill-defined and being set to 0.0 in labels with no predicted samples. Use `zero_division` parameter to control this behavior.\n",
            "  _warn_prf(average, modifier, msg_start, len(result))\n",
            "/usr/local/lib/python3.8/dist-packages/sklearn/metrics/_classification.py:1318: UndefinedMetricWarning: Precision and F-score are ill-defined and being set to 0.0 in labels with no predicted samples. Use `zero_division` parameter to control this behavior.\n",
            "  _warn_prf(average, modifier, msg_start, len(result))\n",
            "/usr/local/lib/python3.8/dist-packages/sklearn/metrics/_classification.py:1318: UndefinedMetricWarning: Precision and F-score are ill-defined and being set to 0.0 in labels with no predicted samples. Use `zero_division` parameter to control this behavior.\n",
            "  _warn_prf(average, modifier, msg_start, len(result))\n",
            "Saving model checkpoint to bert-finetuned-pos/checkpoint-3512\n",
            "Configuration saved in bert-finetuned-pos/checkpoint-3512/config.json\n",
            "Model weights saved in bert-finetuned-pos/checkpoint-3512/pytorch_model.bin\n",
            "tokenizer config file saved in bert-finetuned-pos/checkpoint-3512/tokenizer_config.json\n",
            "Special tokens file saved in bert-finetuned-pos/checkpoint-3512/special_tokens_map.json\n",
            "\n",
            "\n",
            "Training completed. Do not forget to share your model on huggingface.co/models =)\n",
            "\n",
            "\n"
          ]
        },
        {
          "output_type": "execute_result",
          "data": {
            "text/plain": [
              "TrainOutput(global_step=3512, training_loss=1.1559048687406988, metrics={'train_runtime': 386.421, 'train_samples_per_second': 72.672, 'train_steps_per_second': 9.089, 'total_flos': 615901866378294.0, 'train_loss': 1.1559048687406988, 'epoch': 2.0})"
            ]
          },
          "metadata": {},
          "execution_count": 173
        }
      ]
    },
    {
      "cell_type": "code",
      "source": [
        "pos_tagger = transformers.pipeline(\"token-classification\", model= \"/content/bert-finetuned-pos/checkpoint-3512\")"
      ],
      "metadata": {
        "id": "mNj4uJQ7q6lJ",
        "colab": {
          "base_uri": "https://localhost:8080/"
        },
        "outputId": "8ccfe233-707a-4789-f6b3-6e447c6a6695"
      },
      "execution_count": 48,
      "outputs": [
        {
          "output_type": "stream",
          "name": "stderr",
          "text": [
            "loading configuration file /content/bert-finetuned-pos/checkpoint-3512/config.json\n",
            "Model config BertConfig {\n",
            "  \"_name_or_path\": \"/content/bert-finetuned-pos/checkpoint-3512\",\n",
            "  \"architectures\": [\n",
            "    \"BertForTokenClassification\"\n",
            "  ],\n",
            "  \"attention_probs_dropout_prob\": 0.1,\n",
            "  \"classifier_dropout\": null,\n",
            "  \"gradient_checkpointing\": false,\n",
            "  \"hidden_act\": \"gelu\",\n",
            "  \"hidden_dropout_prob\": 0.1,\n",
            "  \"hidden_size\": 768,\n",
            "  \"id2label\": {\n",
            "    \"0\": \"\\\"\",\n",
            "    \"1\": \"''\",\n",
            "    \"2\": \"#\",\n",
            "    \"3\": \"$\",\n",
            "    \"4\": \"(\",\n",
            "    \"5\": \")\",\n",
            "    \"6\": \",\",\n",
            "    \"7\": \".\",\n",
            "    \"8\": \":\",\n",
            "    \"9\": \"``\",\n",
            "    \"10\": \"CC\",\n",
            "    \"11\": \"CD\",\n",
            "    \"12\": \"DT\",\n",
            "    \"13\": \"EX\",\n",
            "    \"14\": \"FW\",\n",
            "    \"15\": \"IN\",\n",
            "    \"16\": \"JJ\",\n",
            "    \"17\": \"JJR\",\n",
            "    \"18\": \"JJS\",\n",
            "    \"19\": \"LS\",\n",
            "    \"20\": \"MD\",\n",
            "    \"21\": \"NN\",\n",
            "    \"22\": \"NNP\",\n",
            "    \"23\": \"NNPS\",\n",
            "    \"24\": \"NNS\",\n",
            "    \"25\": \"NN|SYM\",\n",
            "    \"26\": \"PDT\",\n",
            "    \"27\": \"POS\",\n",
            "    \"28\": \"PRP\",\n",
            "    \"29\": \"PRP$\",\n",
            "    \"30\": \"RB\",\n",
            "    \"31\": \"RBR\",\n",
            "    \"32\": \"RBS\",\n",
            "    \"33\": \"RP\",\n",
            "    \"34\": \"SYM\",\n",
            "    \"35\": \"TO\",\n",
            "    \"36\": \"UH\",\n",
            "    \"37\": \"VB\",\n",
            "    \"38\": \"VBD\",\n",
            "    \"39\": \"VBG\",\n",
            "    \"40\": \"VBN\",\n",
            "    \"41\": \"VBP\",\n",
            "    \"42\": \"VBZ\",\n",
            "    \"43\": \"WDT\",\n",
            "    \"44\": \"WP\",\n",
            "    \"45\": \"WP$\",\n",
            "    \"46\": \"WRB\"\n",
            "  },\n",
            "  \"initializer_range\": 0.02,\n",
            "  \"intermediate_size\": 3072,\n",
            "  \"label2id\": {\n",
            "    \"\\\"\": 0,\n",
            "    \"#\": 2,\n",
            "    \"$\": 3,\n",
            "    \"''\": 1,\n",
            "    \"(\": 4,\n",
            "    \")\": 5,\n",
            "    \",\": 6,\n",
            "    \".\": 7,\n",
            "    \":\": 8,\n",
            "    \"CC\": 10,\n",
            "    \"CD\": 11,\n",
            "    \"DT\": 12,\n",
            "    \"EX\": 13,\n",
            "    \"FW\": 14,\n",
            "    \"IN\": 15,\n",
            "    \"JJ\": 16,\n",
            "    \"JJR\": 17,\n",
            "    \"JJS\": 18,\n",
            "    \"LS\": 19,\n",
            "    \"MD\": 20,\n",
            "    \"NN\": 21,\n",
            "    \"NNP\": 22,\n",
            "    \"NNPS\": 23,\n",
            "    \"NNS\": 24,\n",
            "    \"NN|SYM\": 25,\n",
            "    \"PDT\": 26,\n",
            "    \"POS\": 27,\n",
            "    \"PRP\": 28,\n",
            "    \"PRP$\": 29,\n",
            "    \"RB\": 30,\n",
            "    \"RBR\": 31,\n",
            "    \"RBS\": 32,\n",
            "    \"RP\": 33,\n",
            "    \"SYM\": 34,\n",
            "    \"TO\": 35,\n",
            "    \"UH\": 36,\n",
            "    \"VB\": 37,\n",
            "    \"VBD\": 38,\n",
            "    \"VBG\": 39,\n",
            "    \"VBN\": 40,\n",
            "    \"VBP\": 41,\n",
            "    \"VBZ\": 42,\n",
            "    \"WDT\": 43,\n",
            "    \"WP\": 44,\n",
            "    \"WP$\": 45,\n",
            "    \"WRB\": 46,\n",
            "    \"``\": 9\n",
            "  },\n",
            "  \"layer_norm_eps\": 1e-12,\n",
            "  \"max_position_embeddings\": 512,\n",
            "  \"model_type\": \"bert\",\n",
            "  \"num_attention_heads\": 12,\n",
            "  \"num_hidden_layers\": 12,\n",
            "  \"pad_token_id\": 0,\n",
            "  \"position_embedding_type\": \"absolute\",\n",
            "  \"torch_dtype\": \"float32\",\n",
            "  \"transformers_version\": \"4.25.1\",\n",
            "  \"type_vocab_size\": 2,\n",
            "  \"use_cache\": true,\n",
            "  \"vocab_size\": 28996\n",
            "}\n",
            "\n",
            "loading configuration file /content/bert-finetuned-pos/checkpoint-3512/config.json\n",
            "Model config BertConfig {\n",
            "  \"_name_or_path\": \"/content/bert-finetuned-pos/checkpoint-3512\",\n",
            "  \"architectures\": [\n",
            "    \"BertForTokenClassification\"\n",
            "  ],\n",
            "  \"attention_probs_dropout_prob\": 0.1,\n",
            "  \"classifier_dropout\": null,\n",
            "  \"gradient_checkpointing\": false,\n",
            "  \"hidden_act\": \"gelu\",\n",
            "  \"hidden_dropout_prob\": 0.1,\n",
            "  \"hidden_size\": 768,\n",
            "  \"id2label\": {\n",
            "    \"0\": \"\\\"\",\n",
            "    \"1\": \"''\",\n",
            "    \"2\": \"#\",\n",
            "    \"3\": \"$\",\n",
            "    \"4\": \"(\",\n",
            "    \"5\": \")\",\n",
            "    \"6\": \",\",\n",
            "    \"7\": \".\",\n",
            "    \"8\": \":\",\n",
            "    \"9\": \"``\",\n",
            "    \"10\": \"CC\",\n",
            "    \"11\": \"CD\",\n",
            "    \"12\": \"DT\",\n",
            "    \"13\": \"EX\",\n",
            "    \"14\": \"FW\",\n",
            "    \"15\": \"IN\",\n",
            "    \"16\": \"JJ\",\n",
            "    \"17\": \"JJR\",\n",
            "    \"18\": \"JJS\",\n",
            "    \"19\": \"LS\",\n",
            "    \"20\": \"MD\",\n",
            "    \"21\": \"NN\",\n",
            "    \"22\": \"NNP\",\n",
            "    \"23\": \"NNPS\",\n",
            "    \"24\": \"NNS\",\n",
            "    \"25\": \"NN|SYM\",\n",
            "    \"26\": \"PDT\",\n",
            "    \"27\": \"POS\",\n",
            "    \"28\": \"PRP\",\n",
            "    \"29\": \"PRP$\",\n",
            "    \"30\": \"RB\",\n",
            "    \"31\": \"RBR\",\n",
            "    \"32\": \"RBS\",\n",
            "    \"33\": \"RP\",\n",
            "    \"34\": \"SYM\",\n",
            "    \"35\": \"TO\",\n",
            "    \"36\": \"UH\",\n",
            "    \"37\": \"VB\",\n",
            "    \"38\": \"VBD\",\n",
            "    \"39\": \"VBG\",\n",
            "    \"40\": \"VBN\",\n",
            "    \"41\": \"VBP\",\n",
            "    \"42\": \"VBZ\",\n",
            "    \"43\": \"WDT\",\n",
            "    \"44\": \"WP\",\n",
            "    \"45\": \"WP$\",\n",
            "    \"46\": \"WRB\"\n",
            "  },\n",
            "  \"initializer_range\": 0.02,\n",
            "  \"intermediate_size\": 3072,\n",
            "  \"label2id\": {\n",
            "    \"\\\"\": 0,\n",
            "    \"#\": 2,\n",
            "    \"$\": 3,\n",
            "    \"''\": 1,\n",
            "    \"(\": 4,\n",
            "    \")\": 5,\n",
            "    \",\": 6,\n",
            "    \".\": 7,\n",
            "    \":\": 8,\n",
            "    \"CC\": 10,\n",
            "    \"CD\": 11,\n",
            "    \"DT\": 12,\n",
            "    \"EX\": 13,\n",
            "    \"FW\": 14,\n",
            "    \"IN\": 15,\n",
            "    \"JJ\": 16,\n",
            "    \"JJR\": 17,\n",
            "    \"JJS\": 18,\n",
            "    \"LS\": 19,\n",
            "    \"MD\": 20,\n",
            "    \"NN\": 21,\n",
            "    \"NNP\": 22,\n",
            "    \"NNPS\": 23,\n",
            "    \"NNS\": 24,\n",
            "    \"NN|SYM\": 25,\n",
            "    \"PDT\": 26,\n",
            "    \"POS\": 27,\n",
            "    \"PRP\": 28,\n",
            "    \"PRP$\": 29,\n",
            "    \"RB\": 30,\n",
            "    \"RBR\": 31,\n",
            "    \"RBS\": 32,\n",
            "    \"RP\": 33,\n",
            "    \"SYM\": 34,\n",
            "    \"TO\": 35,\n",
            "    \"UH\": 36,\n",
            "    \"VB\": 37,\n",
            "    \"VBD\": 38,\n",
            "    \"VBG\": 39,\n",
            "    \"VBN\": 40,\n",
            "    \"VBP\": 41,\n",
            "    \"VBZ\": 42,\n",
            "    \"WDT\": 43,\n",
            "    \"WP\": 44,\n",
            "    \"WP$\": 45,\n",
            "    \"WRB\": 46,\n",
            "    \"``\": 9\n",
            "  },\n",
            "  \"layer_norm_eps\": 1e-12,\n",
            "  \"max_position_embeddings\": 512,\n",
            "  \"model_type\": \"bert\",\n",
            "  \"num_attention_heads\": 12,\n",
            "  \"num_hidden_layers\": 12,\n",
            "  \"pad_token_id\": 0,\n",
            "  \"position_embedding_type\": \"absolute\",\n",
            "  \"torch_dtype\": \"float32\",\n",
            "  \"transformers_version\": \"4.25.1\",\n",
            "  \"type_vocab_size\": 2,\n",
            "  \"use_cache\": true,\n",
            "  \"vocab_size\": 28996\n",
            "}\n",
            "\n",
            "loading weights file /content/bert-finetuned-pos/checkpoint-3512/pytorch_model.bin\n",
            "All model checkpoint weights were used when initializing BertForTokenClassification.\n",
            "\n",
            "All the weights of BertForTokenClassification were initialized from the model checkpoint at /content/bert-finetuned-pos/checkpoint-3512.\n",
            "If your task is similar to the task the model of the checkpoint was trained on, you can already use BertForTokenClassification for predictions without further training.\n",
            "loading file vocab.txt\n",
            "loading file tokenizer.json\n",
            "loading file added_tokens.json\n",
            "loading file special_tokens_map.json\n",
            "loading file tokenizer_config.json\n"
          ]
        }
      ]
    },
    {
      "cell_type": "code",
      "source": [
        "pos_tagger(\"I'm going to sleep.\")"
      ],
      "metadata": {
        "colab": {
          "base_uri": "https://localhost:8080/"
        },
        "id": "buzQhIqVoFWS",
        "outputId": "aae8e37e-1e06-4ee9-cf07-01a7f24e03f2"
      },
      "execution_count": 49,
      "outputs": [
        {
          "output_type": "execute_result",
          "data": {
            "text/plain": [
              "[{'entity': 'PRP',\n",
              "  'score': 0.98948157,\n",
              "  'index': 1,\n",
              "  'word': 'I',\n",
              "  'start': 0,\n",
              "  'end': 1},\n",
              " {'entity': 'VBP',\n",
              "  'score': 0.8766078,\n",
              "  'index': 2,\n",
              "  'word': \"'\",\n",
              "  'start': 1,\n",
              "  'end': 2},\n",
              " {'entity': 'VBG',\n",
              "  'score': 0.941468,\n",
              "  'index': 3,\n",
              "  'word': 'm',\n",
              "  'start': 2,\n",
              "  'end': 3},\n",
              " {'entity': 'TO',\n",
              "  'score': 0.96362334,\n",
              "  'index': 4,\n",
              "  'word': 'going',\n",
              "  'start': 4,\n",
              "  'end': 9},\n",
              " {'entity': 'VB',\n",
              "  'score': 0.8158369,\n",
              "  'index': 5,\n",
              "  'word': 'to',\n",
              "  'start': 10,\n",
              "  'end': 12},\n",
              " {'entity': '.',\n",
              "  'score': 0.9957366,\n",
              "  'index': 6,\n",
              "  'word': 'sleep',\n",
              "  'start': 13,\n",
              "  'end': 18},\n",
              " {'entity': '.',\n",
              "  'score': 0.99788505,\n",
              "  'index': 7,\n",
              "  'word': '.',\n",
              "  'start': 18,\n",
              "  'end': 19}]"
            ]
          },
          "metadata": {},
          "execution_count": 49
        }
      ]
    },
    {
      "cell_type": "code",
      "source": [
        "test = tokenized_datasets[\"test\"].set_format(\"torch\")"
      ],
      "metadata": {
        "id": "jGIPeRCjoQp9"
      },
      "execution_count": 56,
      "outputs": []
    },
    {
      "cell_type": "code",
      "source": [
        "model(**tokenized_datasets[\"train\"][0])"
      ],
      "metadata": {
        "colab": {
          "base_uri": "https://localhost:8080/",
          "height": 335
        },
        "id": "LETPjXC_onmh",
        "outputId": "c2402f64-1723-4259-90bf-f2298777edd1"
      },
      "execution_count": 58,
      "outputs": [
        {
          "output_type": "error",
          "ename": "AttributeError",
          "evalue": "ignored",
          "traceback": [
            "\u001b[0;31m---------------------------------------------------------------------------\u001b[0m",
            "\u001b[0;31mAttributeError\u001b[0m                            Traceback (most recent call last)",
            "\u001b[0;32m<ipython-input-58-bf4841cc67dd>\u001b[0m in \u001b[0;36m<module>\u001b[0;34m\u001b[0m\n\u001b[0;32m----> 1\u001b[0;31m \u001b[0mmodel\u001b[0m\u001b[0;34m(\u001b[0m\u001b[0;34m**\u001b[0m\u001b[0mtokenized_datasets\u001b[0m\u001b[0;34m[\u001b[0m\u001b[0;34m\"train\"\u001b[0m\u001b[0;34m]\u001b[0m\u001b[0;34m[\u001b[0m\u001b[0;36m0\u001b[0m\u001b[0;34m]\u001b[0m\u001b[0;34m)\u001b[0m\u001b[0;34m\u001b[0m\u001b[0;34m\u001b[0m\u001b[0m\n\u001b[0m",
            "\u001b[0;32m/usr/local/lib/python3.8/dist-packages/torch/nn/modules/module.py\u001b[0m in \u001b[0;36m_call_impl\u001b[0;34m(self, *input, **kwargs)\u001b[0m\n\u001b[1;32m   1128\u001b[0m         if not (self._backward_hooks or self._forward_hooks or self._forward_pre_hooks or _global_backward_hooks\n\u001b[1;32m   1129\u001b[0m                 or _global_forward_hooks or _global_forward_pre_hooks):\n\u001b[0;32m-> 1130\u001b[0;31m             \u001b[0;32mreturn\u001b[0m \u001b[0mforward_call\u001b[0m\u001b[0;34m(\u001b[0m\u001b[0;34m*\u001b[0m\u001b[0minput\u001b[0m\u001b[0;34m,\u001b[0m \u001b[0;34m**\u001b[0m\u001b[0mkwargs\u001b[0m\u001b[0;34m)\u001b[0m\u001b[0;34m\u001b[0m\u001b[0;34m\u001b[0m\u001b[0m\n\u001b[0m\u001b[1;32m   1131\u001b[0m         \u001b[0;31m# Do not call functions when jit is used\u001b[0m\u001b[0;34m\u001b[0m\u001b[0;34m\u001b[0m\u001b[0;34m\u001b[0m\u001b[0m\n\u001b[1;32m   1132\u001b[0m         \u001b[0mfull_backward_hooks\u001b[0m\u001b[0;34m,\u001b[0m \u001b[0mnon_full_backward_hooks\u001b[0m \u001b[0;34m=\u001b[0m \u001b[0;34m[\u001b[0m\u001b[0;34m]\u001b[0m\u001b[0;34m,\u001b[0m \u001b[0;34m[\u001b[0m\u001b[0;34m]\u001b[0m\u001b[0;34m\u001b[0m\u001b[0;34m\u001b[0m\u001b[0m\n",
            "\u001b[0;32m/usr/local/lib/python3.8/dist-packages/transformers/models/bert/modeling_bert.py\u001b[0m in \u001b[0;36mforward\u001b[0;34m(self, input_ids, attention_mask, token_type_ids, position_ids, head_mask, inputs_embeds, labels, output_attentions, output_hidden_states, return_dict)\u001b[0m\n\u001b[1;32m   1763\u001b[0m         \u001b[0mreturn_dict\u001b[0m \u001b[0;34m=\u001b[0m \u001b[0mreturn_dict\u001b[0m \u001b[0;32mif\u001b[0m \u001b[0mreturn_dict\u001b[0m \u001b[0;32mis\u001b[0m \u001b[0;32mnot\u001b[0m \u001b[0;32mNone\u001b[0m \u001b[0;32melse\u001b[0m \u001b[0mself\u001b[0m\u001b[0;34m.\u001b[0m\u001b[0mconfig\u001b[0m\u001b[0;34m.\u001b[0m\u001b[0muse_return_dict\u001b[0m\u001b[0;34m\u001b[0m\u001b[0;34m\u001b[0m\u001b[0m\n\u001b[1;32m   1764\u001b[0m \u001b[0;34m\u001b[0m\u001b[0m\n\u001b[0;32m-> 1765\u001b[0;31m         outputs = self.bert(\n\u001b[0m\u001b[1;32m   1766\u001b[0m             \u001b[0minput_ids\u001b[0m\u001b[0;34m,\u001b[0m\u001b[0;34m\u001b[0m\u001b[0;34m\u001b[0m\u001b[0m\n\u001b[1;32m   1767\u001b[0m             \u001b[0mattention_mask\u001b[0m\u001b[0;34m=\u001b[0m\u001b[0mattention_mask\u001b[0m\u001b[0;34m,\u001b[0m\u001b[0;34m\u001b[0m\u001b[0;34m\u001b[0m\u001b[0m\n",
            "\u001b[0;32m/usr/local/lib/python3.8/dist-packages/torch/nn/modules/module.py\u001b[0m in \u001b[0;36m_call_impl\u001b[0;34m(self, *input, **kwargs)\u001b[0m\n\u001b[1;32m   1128\u001b[0m         if not (self._backward_hooks or self._forward_hooks or self._forward_pre_hooks or _global_backward_hooks\n\u001b[1;32m   1129\u001b[0m                 or _global_forward_hooks or _global_forward_pre_hooks):\n\u001b[0;32m-> 1130\u001b[0;31m             \u001b[0;32mreturn\u001b[0m \u001b[0mforward_call\u001b[0m\u001b[0;34m(\u001b[0m\u001b[0;34m*\u001b[0m\u001b[0minput\u001b[0m\u001b[0;34m,\u001b[0m \u001b[0;34m**\u001b[0m\u001b[0mkwargs\u001b[0m\u001b[0;34m)\u001b[0m\u001b[0;34m\u001b[0m\u001b[0;34m\u001b[0m\u001b[0m\n\u001b[0m\u001b[1;32m   1131\u001b[0m         \u001b[0;31m# Do not call functions when jit is used\u001b[0m\u001b[0;34m\u001b[0m\u001b[0;34m\u001b[0m\u001b[0;34m\u001b[0m\u001b[0m\n\u001b[1;32m   1132\u001b[0m         \u001b[0mfull_backward_hooks\u001b[0m\u001b[0;34m,\u001b[0m \u001b[0mnon_full_backward_hooks\u001b[0m \u001b[0;34m=\u001b[0m \u001b[0;34m[\u001b[0m\u001b[0;34m]\u001b[0m\u001b[0;34m,\u001b[0m \u001b[0;34m[\u001b[0m\u001b[0;34m]\u001b[0m\u001b[0;34m\u001b[0m\u001b[0;34m\u001b[0m\u001b[0m\n",
            "\u001b[0;32m/usr/local/lib/python3.8/dist-packages/transformers/models/bert/modeling_bert.py\u001b[0m in \u001b[0;36mforward\u001b[0;34m(self, input_ids, attention_mask, token_type_ids, position_ids, head_mask, inputs_embeds, encoder_hidden_states, encoder_attention_mask, past_key_values, use_cache, output_attentions, output_hidden_states, return_dict)\u001b[0m\n\u001b[1;32m    967\u001b[0m             \u001b[0;32mraise\u001b[0m \u001b[0mValueError\u001b[0m\u001b[0;34m(\u001b[0m\u001b[0;34m\"You cannot specify both input_ids and inputs_embeds at the same time\"\u001b[0m\u001b[0;34m)\u001b[0m\u001b[0;34m\u001b[0m\u001b[0;34m\u001b[0m\u001b[0m\n\u001b[1;32m    968\u001b[0m         \u001b[0;32melif\u001b[0m \u001b[0minput_ids\u001b[0m \u001b[0;32mis\u001b[0m \u001b[0;32mnot\u001b[0m \u001b[0;32mNone\u001b[0m\u001b[0;34m:\u001b[0m\u001b[0;34m\u001b[0m\u001b[0;34m\u001b[0m\u001b[0m\n\u001b[0;32m--> 969\u001b[0;31m             \u001b[0minput_shape\u001b[0m \u001b[0;34m=\u001b[0m \u001b[0minput_ids\u001b[0m\u001b[0;34m.\u001b[0m\u001b[0msize\u001b[0m\u001b[0;34m(\u001b[0m\u001b[0;34m)\u001b[0m\u001b[0;34m\u001b[0m\u001b[0;34m\u001b[0m\u001b[0m\n\u001b[0m\u001b[1;32m    970\u001b[0m         \u001b[0;32melif\u001b[0m \u001b[0minputs_embeds\u001b[0m \u001b[0;32mis\u001b[0m \u001b[0;32mnot\u001b[0m \u001b[0;32mNone\u001b[0m\u001b[0;34m:\u001b[0m\u001b[0;34m\u001b[0m\u001b[0;34m\u001b[0m\u001b[0m\n\u001b[1;32m    971\u001b[0m             \u001b[0minput_shape\u001b[0m \u001b[0;34m=\u001b[0m \u001b[0minputs_embeds\u001b[0m\u001b[0;34m.\u001b[0m\u001b[0msize\u001b[0m\u001b[0;34m(\u001b[0m\u001b[0;34m)\u001b[0m\u001b[0;34m[\u001b[0m\u001b[0;34m:\u001b[0m\u001b[0;34m-\u001b[0m\u001b[0;36m1\u001b[0m\u001b[0;34m]\u001b[0m\u001b[0;34m\u001b[0m\u001b[0;34m\u001b[0m\u001b[0m\n",
            "\u001b[0;31mAttributeError\u001b[0m: 'list' object has no attribute 'size'"
          ]
        }
      ]
    },
    {
      "cell_type": "code",
      "source": [
        "import torch\n",
        "test_dataloader = torch.utils.data.DataLoader(tokenized_datasets[\"test\"],\n",
        "                                            #    shuffle= True,\n",
        "                                               collate_fn= data_collator,\n",
        "                                               batch_size= 8\n",
        "                                              )"
      ],
      "metadata": {
        "id": "nmK0K5b-ry1e"
      },
      "execution_count": 70,
      "outputs": []
    },
    {
      "cell_type": "code",
      "source": [
        "for batch in test_dataloader:\n",
        "    out = model(**batch.to(\"cuda\"))"
      ],
      "metadata": {
        "id": "4E49nDj7sLjP"
      },
      "execution_count": 71,
      "outputs": []
    },
    {
      "cell_type": "code",
      "source": [
        "labels = tokenized_datasets[\"test\"][-5:][\"labels\"]\n",
        "logit = out.logits"
      ],
      "metadata": {
        "id": "Fo4Znf28sd0E"
      },
      "execution_count": 78,
      "outputs": []
    },
    {
      "cell_type": "code",
      "source": [
        "labels"
      ],
      "metadata": {
        "colab": {
          "base_uri": "https://localhost:8080/"
        },
        "id": "OVg_rxw5tf9z",
        "outputId": "1fa37191-1bca-4f97-f36d-c57db802d1f1"
      },
      "execution_count": 79,
      "outputs": [
        {
          "output_type": "execute_result",
          "data": {
            "text/plain": [
              "[tensor([-100,   12,   42,   46,   12,   42,   30,   16,   12,   21,   15,   28,\n",
              "            6,    0,   22,   38,    7, -100]),\n",
              " tensor([-100,    0,   28,   38,   12,   21,   15,   28,   12,   38,   15,   12,\n",
              "           21,    6,   15,   28,   38,   15,   24,   15,   28,   38,   35,   37,\n",
              "            6,   15,   28,   21,   18,    6,    0,   28,   38,    7, -100]),\n",
              " tensor([-100,   22,   38,   22,   15,   11,   24,    6,   15,   43,   21,   28,\n",
              "           38,   30,   11,   24,   15,   30,   11,   24,   15,   28,   38,   15,\n",
              "           22,   11,    7, -100]),\n",
              " tensor([-100,   28,   38,   22,   35,   11,   16,   22,   22,   24,   24,   10,\n",
              "           35,   12,   11,   16,   21,   24,   15,   22,    6,   15,   12,   16,\n",
              "           21,   12,   16,   22,   21,   11,   15,   29,   21,   21,    7, -100]),\n",
              " tensor([-100,   12,   16,   16,   22,   22,   21,   38,   30,   37,   29,   22,\n",
              "           21,   15,   12,   21,   15,   11,   10,   30,   40,   11,   24,   10,\n",
              "           38,   12,   16,   21,   15,   12,   11,   22,   22,   16,   21,   15,\n",
              "           29,   17,   21,    6,   22,    7, -100])]"
            ]
          },
          "metadata": {},
          "execution_count": 79
        }
      ]
    },
    {
      "cell_type": "code",
      "source": [
        "def compute_metric(eval_preds):\n",
        "    logits, labels = eval_preds\n",
        "    predictions = np.argmax(logits, axis= -1)\n",
        "    true_labels = [[label_names[l] for l in label if l != -100] for label in labels]\n",
        "    true_predictions = [[label_names[p] for (p,l) in zip(prediction, label) if l != -100] for prediction, label in zip(predictions, labels)]\n",
        "    metrics = metric.compute(predictions= true_predictions,\n",
        "                             references= true_labels)\n",
        "    return {\"precision\": metrics[\"weighted avg\"][\"precision\"],\n",
        "            \"recall\": metrics[\"weighted avg\"][\"recall\"],\n",
        "            \"f1\":metrics[\"weighted avg\"][\"f1_score\"],}"
      ],
      "metadata": {
        "colab": {
          "base_uri": "https://localhost:8080/",
          "height": 868
        },
        "id": "VyEhv2MRt_X2",
        "outputId": "79f8552c-5ae2-4e92-99b5-f18e4d516156"
      },
      "execution_count": 84,
      "outputs": [
        {
          "output_type": "error",
          "ename": "TypeError",
          "evalue": "ignored",
          "traceback": [
            "\u001b[0;31m---------------------------------------------------------------------------\u001b[0m",
            "\u001b[0;31mTypeError\u001b[0m                                 Traceback (most recent call last)",
            "\u001b[0;32m/usr/local/lib/python3.8/dist-packages/evaluate/module.py\u001b[0m in \u001b[0;36madd_batch\u001b[0;34m(self, predictions, references, **kwargs)\u001b[0m\n\u001b[1;32m    483\u001b[0m             \u001b[0;32mfor\u001b[0m \u001b[0mkey\u001b[0m\u001b[0;34m,\u001b[0m \u001b[0mcolumn\u001b[0m \u001b[0;32min\u001b[0m \u001b[0mbatch\u001b[0m\u001b[0;34m.\u001b[0m\u001b[0mitems\u001b[0m\u001b[0;34m(\u001b[0m\u001b[0;34m)\u001b[0m\u001b[0;34m:\u001b[0m\u001b[0;34m\u001b[0m\u001b[0;34m\u001b[0m\u001b[0m\n\u001b[0;32m--> 484\u001b[0;31m                 \u001b[0;32mif\u001b[0m \u001b[0mlen\u001b[0m\u001b[0;34m(\u001b[0m\u001b[0mcolumn\u001b[0m\u001b[0;34m)\u001b[0m \u001b[0;34m>\u001b[0m \u001b[0;36m0\u001b[0m\u001b[0;34m:\u001b[0m\u001b[0;34m\u001b[0m\u001b[0;34m\u001b[0m\u001b[0m\n\u001b[0m\u001b[1;32m    485\u001b[0m                     \u001b[0mself\u001b[0m\u001b[0;34m.\u001b[0m\u001b[0m_enforce_nested_string_type\u001b[0m\u001b[0;34m(\u001b[0m\u001b[0mself\u001b[0m\u001b[0;34m.\u001b[0m\u001b[0mselected_feature_format\u001b[0m\u001b[0;34m[\u001b[0m\u001b[0mkey\u001b[0m\u001b[0;34m]\u001b[0m\u001b[0;34m,\u001b[0m \u001b[0mcolumn\u001b[0m\u001b[0;34m[\u001b[0m\u001b[0;36m0\u001b[0m\u001b[0;34m]\u001b[0m\u001b[0;34m)\u001b[0m\u001b[0;34m\u001b[0m\u001b[0;34m\u001b[0m\u001b[0m\n",
            "\u001b[0;31mTypeError\u001b[0m: object of type 'NoneType' has no len()",
            "\nDuring handling of the above exception, another exception occurred:\n",
            "\u001b[0;31mTypeError\u001b[0m                                 Traceback (most recent call last)",
            "\u001b[0;32m<ipython-input-84-aac25af4f067>\u001b[0m in \u001b[0;36m<module>\u001b[0;34m\u001b[0m\n\u001b[0;32m----> 1\u001b[0;31m \u001b[0mcompute_metric\u001b[0m\u001b[0;34m(\u001b[0m\u001b[0;34m(\u001b[0m\u001b[0mlogit\u001b[0m\u001b[0;34m.\u001b[0m\u001b[0mcpu\u001b[0m\u001b[0;34m(\u001b[0m\u001b[0;34m)\u001b[0m\u001b[0;34m.\u001b[0m\u001b[0mdetach\u001b[0m\u001b[0;34m(\u001b[0m\u001b[0;34m)\u001b[0m\u001b[0;34m.\u001b[0m\u001b[0mnumpy\u001b[0m\u001b[0;34m(\u001b[0m\u001b[0;34m)\u001b[0m\u001b[0;34m,\u001b[0m \u001b[0mlabels\u001b[0m\u001b[0;34m)\u001b[0m\u001b[0;34m)\u001b[0m\u001b[0;34m\u001b[0m\u001b[0;34m\u001b[0m\u001b[0m\n\u001b[0m",
            "\u001b[0;32m<ipython-input-26-8f551f88d9f7>\u001b[0m in \u001b[0;36mcompute_metric\u001b[0;34m(eval_preds)\u001b[0m\n\u001b[1;32m      4\u001b[0m     \u001b[0mtrue_labels\u001b[0m \u001b[0;34m=\u001b[0m \u001b[0;34m[\u001b[0m\u001b[0;34m[\u001b[0m\u001b[0mlabel_names\u001b[0m\u001b[0;34m[\u001b[0m\u001b[0ml\u001b[0m\u001b[0;34m]\u001b[0m \u001b[0;32mfor\u001b[0m \u001b[0ml\u001b[0m \u001b[0;32min\u001b[0m \u001b[0mlabel\u001b[0m \u001b[0;32mif\u001b[0m \u001b[0ml\u001b[0m \u001b[0;34m!=\u001b[0m \u001b[0;34m-\u001b[0m\u001b[0;36m100\u001b[0m\u001b[0;34m]\u001b[0m \u001b[0;32mfor\u001b[0m \u001b[0mlabel\u001b[0m \u001b[0;32min\u001b[0m \u001b[0mlabels\u001b[0m\u001b[0;34m]\u001b[0m\u001b[0;34m\u001b[0m\u001b[0;34m\u001b[0m\u001b[0m\n\u001b[1;32m      5\u001b[0m     \u001b[0mtrue_predictions\u001b[0m \u001b[0;34m=\u001b[0m \u001b[0;34m[\u001b[0m\u001b[0;34m[\u001b[0m\u001b[0mlabel_names\u001b[0m\u001b[0;34m[\u001b[0m\u001b[0mp\u001b[0m\u001b[0;34m]\u001b[0m \u001b[0;32mfor\u001b[0m \u001b[0;34m(\u001b[0m\u001b[0mp\u001b[0m\u001b[0;34m,\u001b[0m\u001b[0ml\u001b[0m\u001b[0;34m)\u001b[0m \u001b[0;32min\u001b[0m \u001b[0mzip\u001b[0m\u001b[0;34m(\u001b[0m\u001b[0mprediction\u001b[0m\u001b[0;34m,\u001b[0m \u001b[0mlabel\u001b[0m\u001b[0;34m)\u001b[0m \u001b[0;32mif\u001b[0m \u001b[0ml\u001b[0m \u001b[0;34m!=\u001b[0m \u001b[0;34m-\u001b[0m\u001b[0;36m100\u001b[0m\u001b[0;34m]\u001b[0m \u001b[0;32mfor\u001b[0m \u001b[0mprediction\u001b[0m\u001b[0;34m,\u001b[0m \u001b[0mlabel\u001b[0m \u001b[0;32min\u001b[0m \u001b[0mzip\u001b[0m\u001b[0;34m(\u001b[0m\u001b[0mpredictions\u001b[0m\u001b[0;34m,\u001b[0m \u001b[0mlabels\u001b[0m\u001b[0;34m)\u001b[0m\u001b[0;34m]\u001b[0m\u001b[0;34m\u001b[0m\u001b[0;34m\u001b[0m\u001b[0m\n\u001b[0;32m----> 6\u001b[0;31m     metrics = metric.compute(predictions= true_predictions,\n\u001b[0m\u001b[1;32m      7\u001b[0m                              reference= true_labels)\n\u001b[1;32m      8\u001b[0m     return {\"precision\": metrics[\"weighted avg\"][\"precision\"],\n",
            "\u001b[0;32m/usr/local/lib/python3.8/dist-packages/evaluate/module.py\u001b[0m in \u001b[0;36mcompute\u001b[0;34m(self, predictions, references, **kwargs)\u001b[0m\n\u001b[1;32m    430\u001b[0m \u001b[0;34m\u001b[0m\u001b[0m\n\u001b[1;32m    431\u001b[0m         \u001b[0;32mif\u001b[0m \u001b[0many\u001b[0m\u001b[0;34m(\u001b[0m\u001b[0mv\u001b[0m \u001b[0;32mis\u001b[0m \u001b[0;32mnot\u001b[0m \u001b[0;32mNone\u001b[0m \u001b[0;32mfor\u001b[0m \u001b[0mv\u001b[0m \u001b[0;32min\u001b[0m \u001b[0minputs\u001b[0m\u001b[0;34m.\u001b[0m\u001b[0mvalues\u001b[0m\u001b[0;34m(\u001b[0m\u001b[0;34m)\u001b[0m\u001b[0;34m)\u001b[0m\u001b[0;34m:\u001b[0m\u001b[0;34m\u001b[0m\u001b[0;34m\u001b[0m\u001b[0m\n\u001b[0;32m--> 432\u001b[0;31m             \u001b[0mself\u001b[0m\u001b[0;34m.\u001b[0m\u001b[0madd_batch\u001b[0m\u001b[0;34m(\u001b[0m\u001b[0;34m**\u001b[0m\u001b[0minputs\u001b[0m\u001b[0;34m)\u001b[0m\u001b[0;34m\u001b[0m\u001b[0;34m\u001b[0m\u001b[0m\n\u001b[0m\u001b[1;32m    433\u001b[0m         \u001b[0mself\u001b[0m\u001b[0;34m.\u001b[0m\u001b[0m_finalize\u001b[0m\u001b[0;34m(\u001b[0m\u001b[0;34m)\u001b[0m\u001b[0;34m\u001b[0m\u001b[0;34m\u001b[0m\u001b[0m\n\u001b[1;32m    434\u001b[0m \u001b[0;34m\u001b[0m\u001b[0m\n",
            "\u001b[0;32m/usr/local/lib/python3.8/dist-packages/evaluate/module.py\u001b[0m in \u001b[0;36madd_batch\u001b[0;34m(self, predictions, references, **kwargs)\u001b[0m\n\u001b[1;32m    487\u001b[0m             \u001b[0mself\u001b[0m\u001b[0;34m.\u001b[0m\u001b[0mwriter\u001b[0m\u001b[0;34m.\u001b[0m\u001b[0mwrite_batch\u001b[0m\u001b[0;34m(\u001b[0m\u001b[0mbatch\u001b[0m\u001b[0;34m)\u001b[0m\u001b[0;34m\u001b[0m\u001b[0;34m\u001b[0m\u001b[0m\n\u001b[1;32m    488\u001b[0m         \u001b[0;32mexcept\u001b[0m \u001b[0;34m(\u001b[0m\u001b[0mpa\u001b[0m\u001b[0;34m.\u001b[0m\u001b[0mArrowInvalid\u001b[0m\u001b[0;34m,\u001b[0m \u001b[0mTypeError\u001b[0m\u001b[0;34m)\u001b[0m\u001b[0;34m:\u001b[0m\u001b[0;34m\u001b[0m\u001b[0;34m\u001b[0m\u001b[0m\n\u001b[0;32m--> 489\u001b[0;31m             \u001b[0;32mif\u001b[0m \u001b[0many\u001b[0m\u001b[0;34m(\u001b[0m\u001b[0mlen\u001b[0m\u001b[0;34m(\u001b[0m\u001b[0mbatch\u001b[0m\u001b[0;34m[\u001b[0m\u001b[0mc\u001b[0m\u001b[0;34m]\u001b[0m\u001b[0;34m)\u001b[0m \u001b[0;34m!=\u001b[0m \u001b[0mlen\u001b[0m\u001b[0;34m(\u001b[0m\u001b[0mnext\u001b[0m\u001b[0;34m(\u001b[0m\u001b[0miter\u001b[0m\u001b[0;34m(\u001b[0m\u001b[0mbatch\u001b[0m\u001b[0;34m.\u001b[0m\u001b[0mvalues\u001b[0m\u001b[0;34m(\u001b[0m\u001b[0;34m)\u001b[0m\u001b[0;34m)\u001b[0m\u001b[0;34m)\u001b[0m\u001b[0;34m)\u001b[0m \u001b[0;32mfor\u001b[0m \u001b[0mc\u001b[0m \u001b[0;32min\u001b[0m \u001b[0mbatch\u001b[0m\u001b[0;34m)\u001b[0m\u001b[0;34m:\u001b[0m\u001b[0;34m\u001b[0m\u001b[0;34m\u001b[0m\u001b[0m\n\u001b[0m\u001b[1;32m    490\u001b[0m                 \u001b[0mcol0\u001b[0m \u001b[0;34m=\u001b[0m \u001b[0mnext\u001b[0m\u001b[0;34m(\u001b[0m\u001b[0miter\u001b[0m\u001b[0;34m(\u001b[0m\u001b[0mbatch\u001b[0m\u001b[0;34m)\u001b[0m\u001b[0;34m)\u001b[0m\u001b[0;34m\u001b[0m\u001b[0;34m\u001b[0m\u001b[0m\n\u001b[1;32m    491\u001b[0m                 \u001b[0mbad_col\u001b[0m \u001b[0;34m=\u001b[0m \u001b[0;34m[\u001b[0m\u001b[0mc\u001b[0m \u001b[0;32mfor\u001b[0m \u001b[0mc\u001b[0m \u001b[0;32min\u001b[0m \u001b[0mbatch\u001b[0m \u001b[0;32mif\u001b[0m \u001b[0mlen\u001b[0m\u001b[0;34m(\u001b[0m\u001b[0mbatch\u001b[0m\u001b[0;34m[\u001b[0m\u001b[0mc\u001b[0m\u001b[0;34m]\u001b[0m\u001b[0;34m)\u001b[0m \u001b[0;34m!=\u001b[0m \u001b[0mlen\u001b[0m\u001b[0;34m(\u001b[0m\u001b[0mbatch\u001b[0m\u001b[0;34m[\u001b[0m\u001b[0mcol0\u001b[0m\u001b[0;34m]\u001b[0m\u001b[0;34m)\u001b[0m\u001b[0;34m]\u001b[0m\u001b[0;34m[\u001b[0m\u001b[0;36m0\u001b[0m\u001b[0;34m]\u001b[0m\u001b[0;34m\u001b[0m\u001b[0;34m\u001b[0m\u001b[0m\n",
            "\u001b[0;32m/usr/local/lib/python3.8/dist-packages/evaluate/module.py\u001b[0m in \u001b[0;36m<genexpr>\u001b[0;34m(.0)\u001b[0m\n\u001b[1;32m    487\u001b[0m             \u001b[0mself\u001b[0m\u001b[0;34m.\u001b[0m\u001b[0mwriter\u001b[0m\u001b[0;34m.\u001b[0m\u001b[0mwrite_batch\u001b[0m\u001b[0;34m(\u001b[0m\u001b[0mbatch\u001b[0m\u001b[0;34m)\u001b[0m\u001b[0;34m\u001b[0m\u001b[0;34m\u001b[0m\u001b[0m\n\u001b[1;32m    488\u001b[0m         \u001b[0;32mexcept\u001b[0m \u001b[0;34m(\u001b[0m\u001b[0mpa\u001b[0m\u001b[0;34m.\u001b[0m\u001b[0mArrowInvalid\u001b[0m\u001b[0;34m,\u001b[0m \u001b[0mTypeError\u001b[0m\u001b[0;34m)\u001b[0m\u001b[0;34m:\u001b[0m\u001b[0;34m\u001b[0m\u001b[0;34m\u001b[0m\u001b[0m\n\u001b[0;32m--> 489\u001b[0;31m             \u001b[0;32mif\u001b[0m \u001b[0many\u001b[0m\u001b[0;34m(\u001b[0m\u001b[0mlen\u001b[0m\u001b[0;34m(\u001b[0m\u001b[0mbatch\u001b[0m\u001b[0;34m[\u001b[0m\u001b[0mc\u001b[0m\u001b[0;34m]\u001b[0m\u001b[0;34m)\u001b[0m \u001b[0;34m!=\u001b[0m \u001b[0mlen\u001b[0m\u001b[0;34m(\u001b[0m\u001b[0mnext\u001b[0m\u001b[0;34m(\u001b[0m\u001b[0miter\u001b[0m\u001b[0;34m(\u001b[0m\u001b[0mbatch\u001b[0m\u001b[0;34m.\u001b[0m\u001b[0mvalues\u001b[0m\u001b[0;34m(\u001b[0m\u001b[0;34m)\u001b[0m\u001b[0;34m)\u001b[0m\u001b[0;34m)\u001b[0m\u001b[0;34m)\u001b[0m \u001b[0;32mfor\u001b[0m \u001b[0mc\u001b[0m \u001b[0;32min\u001b[0m \u001b[0mbatch\u001b[0m\u001b[0;34m)\u001b[0m\u001b[0;34m:\u001b[0m\u001b[0;34m\u001b[0m\u001b[0;34m\u001b[0m\u001b[0m\n\u001b[0m\u001b[1;32m    490\u001b[0m                 \u001b[0mcol0\u001b[0m \u001b[0;34m=\u001b[0m \u001b[0mnext\u001b[0m\u001b[0;34m(\u001b[0m\u001b[0miter\u001b[0m\u001b[0;34m(\u001b[0m\u001b[0mbatch\u001b[0m\u001b[0;34m)\u001b[0m\u001b[0;34m)\u001b[0m\u001b[0;34m\u001b[0m\u001b[0;34m\u001b[0m\u001b[0m\n\u001b[1;32m    491\u001b[0m                 \u001b[0mbad_col\u001b[0m \u001b[0;34m=\u001b[0m \u001b[0;34m[\u001b[0m\u001b[0mc\u001b[0m \u001b[0;32mfor\u001b[0m \u001b[0mc\u001b[0m \u001b[0;32min\u001b[0m \u001b[0mbatch\u001b[0m \u001b[0;32mif\u001b[0m \u001b[0mlen\u001b[0m\u001b[0;34m(\u001b[0m\u001b[0mbatch\u001b[0m\u001b[0;34m[\u001b[0m\u001b[0mc\u001b[0m\u001b[0;34m]\u001b[0m\u001b[0;34m)\u001b[0m \u001b[0;34m!=\u001b[0m \u001b[0mlen\u001b[0m\u001b[0;34m(\u001b[0m\u001b[0mbatch\u001b[0m\u001b[0;34m[\u001b[0m\u001b[0mcol0\u001b[0m\u001b[0;34m]\u001b[0m\u001b[0;34m)\u001b[0m\u001b[0;34m]\u001b[0m\u001b[0;34m[\u001b[0m\u001b[0;36m0\u001b[0m\u001b[0;34m]\u001b[0m\u001b[0;34m\u001b[0m\u001b[0;34m\u001b[0m\u001b[0m\n",
            "\u001b[0;31mTypeError\u001b[0m: object of type 'NoneType' has no len()"
          ]
        }
      ]
    },
    {
      "cell_type": "code",
      "source": [
        "labels = tokenized_datasets[\"test\"][-5:][\"labels\"]\n",
        "logit = out.logits.cpu().detach().numpy()"
      ],
      "metadata": {
        "id": "wpSORarAvXv3"
      },
      "execution_count": 85,
      "outputs": []
    },
    {
      "cell_type": "code",
      "source": [
        "predictions = np.argmax(logit, axis= -1)"
      ],
      "metadata": {
        "id": "zqvvArdOuwNF"
      },
      "execution_count": 86,
      "outputs": []
    },
    {
      "cell_type": "code",
      "source": [
        "predictions.shape"
      ],
      "metadata": {
        "colab": {
          "base_uri": "https://localhost:8080/"
        },
        "id": "QOl8GoHVvoSG",
        "outputId": "1316734a-30eb-44d6-845b-53f60fdc943f"
      },
      "execution_count": 88,
      "outputs": [
        {
          "output_type": "execute_result",
          "data": {
            "text/plain": [
              "(5, 44)"
            ]
          },
          "metadata": {},
          "execution_count": 88
        }
      ]
    },
    {
      "cell_type": "code",
      "source": [
        "labels[4].shape"
      ],
      "metadata": {
        "colab": {
          "base_uri": "https://localhost:8080/"
        },
        "id": "VuHOT4AIv5bl",
        "outputId": "ce223200-2dfd-446a-96cb-4d22d0bb6b9c"
      },
      "execution_count": 95,
      "outputs": [
        {
          "output_type": "execute_result",
          "data": {
            "text/plain": [
              "torch.Size([43])"
            ]
          },
          "metadata": {},
          "execution_count": 95
        }
      ]
    },
    {
      "cell_type": "code",
      "source": [
        "true_labels = [[label_names[l] for l in label if l != -100] for label in labels]"
      ],
      "metadata": {
        "id": "Obk1-7u-vqLv"
      },
      "execution_count": 96,
      "outputs": []
    },
    {
      "cell_type": "code",
      "source": [
        "true_labels"
      ],
      "metadata": {
        "colab": {
          "base_uri": "https://localhost:8080/"
        },
        "id": "MH3-gVyAwOpp",
        "outputId": "cee1dee3-e398-4dc0-d03b-6576e39d3cdc"
      },
      "execution_count": 97,
      "outputs": [
        {
          "output_type": "execute_result",
          "data": {
            "text/plain": [
              "[['DT',\n",
              "  'VBZ',\n",
              "  'WRB',\n",
              "  'DT',\n",
              "  'VBZ',\n",
              "  'RB',\n",
              "  'JJ',\n",
              "  'DT',\n",
              "  'NN',\n",
              "  'IN',\n",
              "  'PRP',\n",
              "  ',',\n",
              "  '\"',\n",
              "  'NNP',\n",
              "  'VBD',\n",
              "  '.'],\n",
              " ['\"',\n",
              "  'PRP',\n",
              "  'VBD',\n",
              "  'DT',\n",
              "  'NN',\n",
              "  'IN',\n",
              "  'PRP',\n",
              "  'DT',\n",
              "  'VBD',\n",
              "  'IN',\n",
              "  'DT',\n",
              "  'NN',\n",
              "  ',',\n",
              "  'IN',\n",
              "  'PRP',\n",
              "  'VBD',\n",
              "  'IN',\n",
              "  'NNS',\n",
              "  'IN',\n",
              "  'PRP',\n",
              "  'VBD',\n",
              "  'TO',\n",
              "  'VB',\n",
              "  ',',\n",
              "  'IN',\n",
              "  'PRP',\n",
              "  'NN',\n",
              "  'JJS',\n",
              "  ',',\n",
              "  '\"',\n",
              "  'PRP',\n",
              "  'VBD',\n",
              "  '.'],\n",
              " ['NNP',\n",
              "  'VBD',\n",
              "  'NNP',\n",
              "  'IN',\n",
              "  'CD',\n",
              "  'NNS',\n",
              "  ',',\n",
              "  'IN',\n",
              "  'WDT',\n",
              "  'NN',\n",
              "  'PRP',\n",
              "  'VBD',\n",
              "  'RB',\n",
              "  'CD',\n",
              "  'NNS',\n",
              "  'IN',\n",
              "  'RB',\n",
              "  'CD',\n",
              "  'NNS',\n",
              "  'IN',\n",
              "  'PRP',\n",
              "  'VBD',\n",
              "  'IN',\n",
              "  'NNP',\n",
              "  'CD',\n",
              "  '.'],\n",
              " ['PRP',\n",
              "  'VBD',\n",
              "  'NNP',\n",
              "  'TO',\n",
              "  'CD',\n",
              "  'JJ',\n",
              "  'NNP',\n",
              "  'NNP',\n",
              "  'NNS',\n",
              "  'NNS',\n",
              "  'CC',\n",
              "  'TO',\n",
              "  'DT',\n",
              "  'CD',\n",
              "  'JJ',\n",
              "  'NN',\n",
              "  'NNS',\n",
              "  'IN',\n",
              "  'NNP',\n",
              "  ',',\n",
              "  'IN',\n",
              "  'DT',\n",
              "  'JJ',\n",
              "  'NN',\n",
              "  'DT',\n",
              "  'JJ',\n",
              "  'NNP',\n",
              "  'NN',\n",
              "  'CD',\n",
              "  'IN',\n",
              "  'PRP$',\n",
              "  'NN',\n",
              "  'NN',\n",
              "  '.'],\n",
              " ['DT',\n",
              "  'JJ',\n",
              "  'JJ',\n",
              "  'NNP',\n",
              "  'NNP',\n",
              "  'NN',\n",
              "  'VBD',\n",
              "  'RB',\n",
              "  'VB',\n",
              "  'PRP$',\n",
              "  'NNP',\n",
              "  'NN',\n",
              "  'IN',\n",
              "  'DT',\n",
              "  'NN',\n",
              "  'IN',\n",
              "  'CD',\n",
              "  'CC',\n",
              "  'RB',\n",
              "  'VBN',\n",
              "  'CD',\n",
              "  'NNS',\n",
              "  'CC',\n",
              "  'VBD',\n",
              "  'DT',\n",
              "  'JJ',\n",
              "  'NN',\n",
              "  'IN',\n",
              "  'DT',\n",
              "  'CD',\n",
              "  'NNP',\n",
              "  'NNP',\n",
              "  'JJ',\n",
              "  'NN',\n",
              "  'IN',\n",
              "  'PRP$',\n",
              "  'JJR',\n",
              "  'NN',\n",
              "  ',',\n",
              "  'NNP',\n",
              "  '.']]"
            ]
          },
          "metadata": {},
          "execution_count": 97
        }
      ]
    },
    {
      "cell_type": "code",
      "source": [
        "true_predictions = [[label_names[p] for (p,l) in zip(prediction, label) if l != -100] for prediction, label in zip(predictions, labels)]"
      ],
      "metadata": {
        "id": "aT_eMS_mwQsx"
      },
      "execution_count": 98,
      "outputs": []
    },
    {
      "cell_type": "code",
      "source": [
        "true_predictions"
      ],
      "metadata": {
        "colab": {
          "base_uri": "https://localhost:8080/"
        },
        "id": "HSiEP6Kywdjn",
        "outputId": "ed86e7db-a734-40f7-bb51-e683de072a84"
      },
      "execution_count": 99,
      "outputs": [
        {
          "output_type": "execute_result",
          "data": {
            "text/plain": [
              "[['DT',\n",
              "  'VBZ',\n",
              "  'WRB',\n",
              "  'DT',\n",
              "  'VBZ',\n",
              "  'RB',\n",
              "  'JJ',\n",
              "  'DT',\n",
              "  'NN',\n",
              "  'IN',\n",
              "  'PRP',\n",
              "  ',',\n",
              "  '\"',\n",
              "  'NNP',\n",
              "  'VBD',\n",
              "  '.'],\n",
              " ['\"',\n",
              "  'PRP',\n",
              "  'VBD',\n",
              "  'DT',\n",
              "  'NN',\n",
              "  'IN',\n",
              "  'PRP',\n",
              "  'RB',\n",
              "  'VBD',\n",
              "  'IN',\n",
              "  'DT',\n",
              "  'NN',\n",
              "  ',',\n",
              "  'IN',\n",
              "  'PRP',\n",
              "  'VBD',\n",
              "  'IN',\n",
              "  'NNS',\n",
              "  'IN',\n",
              "  'PRP',\n",
              "  'VBD',\n",
              "  'TO',\n",
              "  'VB',\n",
              "  ',',\n",
              "  'IN',\n",
              "  'PRP',\n",
              "  'VBP',\n",
              "  'JJS',\n",
              "  ',',\n",
              "  '\"',\n",
              "  'PRP',\n",
              "  'VBD',\n",
              "  '.'],\n",
              " ['NNP',\n",
              "  'VBD',\n",
              "  'NNP',\n",
              "  'IN',\n",
              "  'CD',\n",
              "  'NNS',\n",
              "  ',',\n",
              "  'IN',\n",
              "  'WDT',\n",
              "  'NN',\n",
              "  'PRP',\n",
              "  'VBD',\n",
              "  'RB',\n",
              "  'CD',\n",
              "  'NNS',\n",
              "  'IN',\n",
              "  'RB',\n",
              "  'CD',\n",
              "  'NNS',\n",
              "  'IN',\n",
              "  'PRP',\n",
              "  'VBD',\n",
              "  'IN',\n",
              "  'NNP',\n",
              "  'CD',\n",
              "  '.'],\n",
              " ['PRP',\n",
              "  'VBD',\n",
              "  'NNP',\n",
              "  'TO',\n",
              "  'CD',\n",
              "  'JJ',\n",
              "  'NNP',\n",
              "  'NNP',\n",
              "  'NNS',\n",
              "  'NNS',\n",
              "  'CC',\n",
              "  'TO',\n",
              "  'DT',\n",
              "  'CD',\n",
              "  'JJ',\n",
              "  'NN',\n",
              "  'NNS',\n",
              "  'IN',\n",
              "  'NNP',\n",
              "  ',',\n",
              "  'IN',\n",
              "  'DT',\n",
              "  'NNP',\n",
              "  'VBD',\n",
              "  'DT',\n",
              "  'JJ',\n",
              "  'NNP',\n",
              "  'NNP',\n",
              "  'NNP',\n",
              "  'IN',\n",
              "  'PRP$',\n",
              "  'NN',\n",
              "  'NN',\n",
              "  '.'],\n",
              " ['DT',\n",
              "  'JJ',\n",
              "  'JJ',\n",
              "  'NNP',\n",
              "  'NNP',\n",
              "  'NN',\n",
              "  'VBD',\n",
              "  'RB',\n",
              "  'VB',\n",
              "  'PRP$',\n",
              "  'NNP',\n",
              "  'NN',\n",
              "  'IN',\n",
              "  'DT',\n",
              "  'NN',\n",
              "  'IN',\n",
              "  'CD',\n",
              "  'CC',\n",
              "  'RB',\n",
              "  'VBD',\n",
              "  'CD',\n",
              "  'NNS',\n",
              "  'CC',\n",
              "  'VBD',\n",
              "  'DT',\n",
              "  'JJ',\n",
              "  'NN',\n",
              "  'IN',\n",
              "  'DT',\n",
              "  'NNP',\n",
              "  'NNP',\n",
              "  'NNP',\n",
              "  'NNP',\n",
              "  'NN',\n",
              "  'IN',\n",
              "  'PRP$',\n",
              "  'PRP$',\n",
              "  ',',\n",
              "  ',',\n",
              "  'NNP',\n",
              "  '.']]"
            ]
          },
          "metadata": {},
          "execution_count": 99
        }
      ]
    },
    {
      "cell_type": "code",
      "source": [
        "metrics = metric.compute(predictions= true_predictions,references= true_labels)"
      ],
      "metadata": {
        "colab": {
          "base_uri": "https://localhost:8080/"
        },
        "id": "S5vM9NfqwgXV",
        "outputId": "34e94f75-b63e-4219-9019-fd0ecd4e23bf"
      },
      "execution_count": 112,
      "outputs": [
        {
          "output_type": "stream",
          "name": "stderr",
          "text": [
            "/usr/local/lib/python3.8/dist-packages/sklearn/metrics/_classification.py:1318: UndefinedMetricWarning: Precision and F-score are ill-defined and being set to 0.0 in labels with no predicted samples. Use `zero_division` parameter to control this behavior.\n",
            "  _warn_prf(average, modifier, msg_start, len(result))\n",
            "/usr/local/lib/python3.8/dist-packages/sklearn/metrics/_classification.py:1318: UndefinedMetricWarning: Recall and F-score are ill-defined and being set to 0.0 in labels with no true samples. Use `zero_division` parameter to control this behavior.\n",
            "  _warn_prf(average, modifier, msg_start, len(result))\n",
            "/usr/local/lib/python3.8/dist-packages/sklearn/metrics/_classification.py:1318: UndefinedMetricWarning: Precision and F-score are ill-defined and being set to 0.0 in labels with no predicted samples. Use `zero_division` parameter to control this behavior.\n",
            "  _warn_prf(average, modifier, msg_start, len(result))\n",
            "/usr/local/lib/python3.8/dist-packages/sklearn/metrics/_classification.py:1318: UndefinedMetricWarning: Recall and F-score are ill-defined and being set to 0.0 in labels with no true samples. Use `zero_division` parameter to control this behavior.\n",
            "  _warn_prf(average, modifier, msg_start, len(result))\n",
            "/usr/local/lib/python3.8/dist-packages/sklearn/metrics/_classification.py:1318: UndefinedMetricWarning: Precision and F-score are ill-defined and being set to 0.0 in labels with no predicted samples. Use `zero_division` parameter to control this behavior.\n",
            "  _warn_prf(average, modifier, msg_start, len(result))\n",
            "/usr/local/lib/python3.8/dist-packages/sklearn/metrics/_classification.py:1318: UndefinedMetricWarning: Recall and F-score are ill-defined and being set to 0.0 in labels with no true samples. Use `zero_division` parameter to control this behavior.\n",
            "  _warn_prf(average, modifier, msg_start, len(result))\n"
          ]
        }
      ]
    },
    {
      "cell_type": "code",
      "source": [
        "true_predictions[0], true_labels[0]"
      ],
      "metadata": {
        "colab": {
          "base_uri": "https://localhost:8080/"
        },
        "id": "sSAWUJ6Pwqw1",
        "outputId": "8c5d9713-30e8-4609-d618-d9d97f083a1b"
      },
      "execution_count": 106,
      "outputs": [
        {
          "output_type": "execute_result",
          "data": {
            "text/plain": [
              "(['DT',\n",
              "  'VBZ',\n",
              "  'WRB',\n",
              "  'DT',\n",
              "  'VBZ',\n",
              "  'RB',\n",
              "  'JJ',\n",
              "  'DT',\n",
              "  'NN',\n",
              "  'IN',\n",
              "  'PRP',\n",
              "  ',',\n",
              "  '\"',\n",
              "  'NNP',\n",
              "  'VBD',\n",
              "  '.'],\n",
              " ['DT',\n",
              "  'VBZ',\n",
              "  'WRB',\n",
              "  'DT',\n",
              "  'VBZ',\n",
              "  'RB',\n",
              "  'JJ',\n",
              "  'DT',\n",
              "  'NN',\n",
              "  'IN',\n",
              "  'PRP',\n",
              "  ',',\n",
              "  '\"',\n",
              "  'NNP',\n",
              "  'VBD',\n",
              "  '.'])"
            ]
          },
          "metadata": {},
          "execution_count": 106
        }
      ]
    },
    {
      "cell_type": "code",
      "source": [
        "metric.compute(predictions=true_predictions, references=true_labels)"
      ],
      "metadata": {
        "colab": {
          "base_uri": "https://localhost:8080/"
        },
        "id": "WY6edagax0TV",
        "outputId": "a0e782cb-2c09-4abd-c360-2f31d242fd1f"
      },
      "execution_count": 111,
      "outputs": [
        {
          "output_type": "stream",
          "name": "stderr",
          "text": [
            "/usr/local/lib/python3.8/dist-packages/sklearn/metrics/_classification.py:1318: UndefinedMetricWarning: Precision and F-score are ill-defined and being set to 0.0 in labels with no predicted samples. Use `zero_division` parameter to control this behavior.\n",
            "  _warn_prf(average, modifier, msg_start, len(result))\n",
            "/usr/local/lib/python3.8/dist-packages/sklearn/metrics/_classification.py:1318: UndefinedMetricWarning: Recall and F-score are ill-defined and being set to 0.0 in labels with no true samples. Use `zero_division` parameter to control this behavior.\n",
            "  _warn_prf(average, modifier, msg_start, len(result))\n",
            "/usr/local/lib/python3.8/dist-packages/sklearn/metrics/_classification.py:1318: UndefinedMetricWarning: Precision and F-score are ill-defined and being set to 0.0 in labels with no predicted samples. Use `zero_division` parameter to control this behavior.\n",
            "  _warn_prf(average, modifier, msg_start, len(result))\n",
            "/usr/local/lib/python3.8/dist-packages/sklearn/metrics/_classification.py:1318: UndefinedMetricWarning: Recall and F-score are ill-defined and being set to 0.0 in labels with no true samples. Use `zero_division` parameter to control this behavior.\n",
            "  _warn_prf(average, modifier, msg_start, len(result))\n",
            "/usr/local/lib/python3.8/dist-packages/sklearn/metrics/_classification.py:1318: UndefinedMetricWarning: Precision and F-score are ill-defined and being set to 0.0 in labels with no predicted samples. Use `zero_division` parameter to control this behavior.\n",
            "  _warn_prf(average, modifier, msg_start, len(result))\n",
            "/usr/local/lib/python3.8/dist-packages/sklearn/metrics/_classification.py:1318: UndefinedMetricWarning: Recall and F-score are ill-defined and being set to 0.0 in labels with no true samples. Use `zero_division` parameter to control this behavior.\n",
            "  _warn_prf(average, modifier, msg_start, len(result))\n"
          ]
        },
        {
          "output_type": "execute_result",
          "data": {
            "text/plain": [
              "{'\"': {'precision': 1.0, 'recall': 1.0, 'f1-score': 1.0, 'support': 3},\n",
              " ',': {'precision': 0.875,\n",
              "  'recall': 1.0,\n",
              "  'f1-score': 0.9333333333333333,\n",
              "  'support': 7},\n",
              " '.': {'precision': 1.0, 'recall': 1.0, 'f1-score': 1.0, 'support': 5},\n",
              " 'CC': {'precision': 1.0, 'recall': 1.0, 'f1-score': 1.0, 'support': 3},\n",
              " 'CD': {'precision': 1.0,\n",
              "  'recall': 0.8,\n",
              "  'f1-score': 0.888888888888889,\n",
              "  'support': 10},\n",
              " 'DT': {'precision': 1.0,\n",
              "  'recall': 0.9230769230769231,\n",
              "  'f1-score': 0.9600000000000001,\n",
              "  'support': 13},\n",
              " 'IN': {'precision': 1.0, 'recall': 1.0, 'f1-score': 1.0, 'support': 19},\n",
              " 'JJ': {'precision': 1.0,\n",
              "  'recall': 0.7777777777777778,\n",
              "  'f1-score': 0.8750000000000001,\n",
              "  'support': 9},\n",
              " 'JJR': {'precision': 0.0, 'recall': 0.0, 'f1-score': 0.0, 'support': 1},\n",
              " 'JJS': {'precision': 1.0, 'recall': 1.0, 'f1-score': 1.0, 'support': 1},\n",
              " 'NN': {'precision': 1.0,\n",
              "  'recall': 0.75,\n",
              "  'f1-score': 0.8571428571428571,\n",
              "  'support': 16},\n",
              " 'NNP': {'precision': 0.75,\n",
              "  'recall': 1.0,\n",
              "  'f1-score': 0.8571428571428571,\n",
              "  'support': 15},\n",
              " 'NNS': {'precision': 1.0, 'recall': 1.0, 'f1-score': 1.0, 'support': 8},\n",
              " 'PRP': {'precision': 1.0, 'recall': 1.0, 'f1-score': 1.0, 'support': 10},\n",
              " 'PRP$': {'precision': 0.75,\n",
              "  'recall': 1.0,\n",
              "  'f1-score': 0.8571428571428571,\n",
              "  'support': 3},\n",
              " 'RB': {'precision': 0.8333333333333334,\n",
              "  'recall': 1.0,\n",
              "  'f1-score': 0.9090909090909091,\n",
              "  'support': 5},\n",
              " 'TO': {'precision': 1.0, 'recall': 1.0, 'f1-score': 1.0, 'support': 3},\n",
              " 'VB': {'precision': 1.0, 'recall': 1.0, 'f1-score': 1.0, 'support': 2},\n",
              " 'VBD': {'precision': 0.8571428571428571,\n",
              "  'recall': 1.0,\n",
              "  'f1-score': 0.923076923076923,\n",
              "  'support': 12},\n",
              " 'VBN': {'precision': 0.0, 'recall': 0.0, 'f1-score': 0.0, 'support': 1},\n",
              " 'VBP': {'precision': 0.0, 'recall': 0.0, 'f1-score': 0.0, 'support': 0},\n",
              " 'VBZ': {'precision': 1.0, 'recall': 1.0, 'f1-score': 1.0, 'support': 2},\n",
              " 'WDT': {'precision': 1.0, 'recall': 1.0, 'f1-score': 1.0, 'support': 1},\n",
              " 'WRB': {'precision': 1.0, 'recall': 1.0, 'f1-score': 1.0, 'support': 1},\n",
              " 'accuracy': 0.9266666666666666,\n",
              " 'macro avg': {'precision': 0.8360615079365079,\n",
              "  'recall': 0.8437856125356126,\n",
              "  'f1-score': 0.8358674427424427,\n",
              "  'support': 150},\n",
              " 'weighted avg': {'precision': 0.9338492063492064,\n",
              "  'recall': 0.9266666666666666,\n",
              "  'f1-score': 0.92361637991638,\n",
              "  'support': 150}}"
            ]
          },
          "metadata": {},
          "execution_count": 111
        }
      ]
    },
    {
      "cell_type": "code",
      "source": [],
      "metadata": {
        "id": "p7U6pC6Oy17J"
      },
      "execution_count": null,
      "outputs": []
    }
  ]
}